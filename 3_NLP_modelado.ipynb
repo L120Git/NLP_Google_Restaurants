{
  "nbformat": 4,
  "nbformat_minor": 0,
  "metadata": {
    "colab": {
      "provenance": [],
      "machine_shape": "hm",
      "authorship_tag": "ABX9TyMO4N6pqgxTHhB8T5Xew1we",
      "include_colab_link": true
    },
    "kernelspec": {
      "name": "python3",
      "display_name": "Python 3"
    },
    "language_info": {
      "name": "python"
    },
    "accelerator": "GPU",
    "gpuClass": "standard"
  },
  "cells": [
    {
      "cell_type": "markdown",
      "metadata": {
        "id": "view-in-github",
        "colab_type": "text"
      },
      "source": [
        "<a href=\"https://colab.research.google.com/github/L120Git/NLP_Google_Restaurants/blob/main/3_NLP_modelado.ipynb\" target=\"_parent\"><img src=\"https://colab.research.google.com/assets/colab-badge.svg\" alt=\"Open In Colab\"/></a>"
      ]
    },
    {
      "cell_type": "markdown",
      "source": [
        "##0.Librerías necesarias"
      ],
      "metadata": {
        "id": "xS1T-vQSdLoC"
      }
    },
    {
      "cell_type": "code",
      "source": [
        "#!pip install rarfile\n",
        "#!pip install unzip\n",
        "!pip install stop-words\n",
        "!pip install num2words\n"
      ],
      "metadata": {
        "colab": {
          "base_uri": "https://localhost:8080/"
        },
        "id": "Ca-qFp4k0mzh",
        "outputId": "5b12c1f0-96b5-47be-e374-3bd74c4f05bf"
      },
      "execution_count": null,
      "outputs": [
        {
          "output_type": "stream",
          "name": "stdout",
          "text": [
            "Looking in indexes: https://pypi.org/simple, https://us-python.pkg.dev/colab-wheels/public/simple/\n",
            "Requirement already satisfied: stop-words in /usr/local/lib/python3.9/dist-packages (2018.7.23)\n",
            "Looking in indexes: https://pypi.org/simple, https://us-python.pkg.dev/colab-wheels/public/simple/\n",
            "Requirement already satisfied: num2words in /usr/local/lib/python3.9/dist-packages (0.5.12)\n",
            "Requirement already satisfied: docopt>=0.6.2 in /usr/local/lib/python3.9/dist-packages (from num2words) (0.6.2)\n"
          ]
        }
      ]
    },
    {
      "cell_type": "code",
      "source": [
        "!pip install wordcloud"
      ],
      "metadata": {
        "colab": {
          "base_uri": "https://localhost:8080/"
        },
        "id": "ts7qrXDUf31r",
        "outputId": "35342a0e-35bf-4ce6-aab1-e762ab316ddb"
      },
      "execution_count": null,
      "outputs": [
        {
          "output_type": "stream",
          "name": "stdout",
          "text": [
            "Looking in indexes: https://pypi.org/simple, https://us-python.pkg.dev/colab-wheels/public/simple/\n",
            "Requirement already satisfied: wordcloud in /usr/local/lib/python3.9/dist-packages (1.8.2.2)\n",
            "Requirement already satisfied: numpy>=1.6.1 in /usr/local/lib/python3.9/dist-packages (from wordcloud) (1.22.4)\n",
            "Requirement already satisfied: pillow in /usr/local/lib/python3.9/dist-packages (from wordcloud) (8.4.0)\n",
            "Requirement already satisfied: matplotlib in /usr/local/lib/python3.9/dist-packages (from wordcloud) (3.5.3)\n",
            "Requirement already satisfied: packaging>=20.0 in /usr/local/lib/python3.9/dist-packages (from matplotlib->wordcloud) (23.0)\n",
            "Requirement already satisfied: pyparsing>=2.2.1 in /usr/local/lib/python3.9/dist-packages (from matplotlib->wordcloud) (3.0.9)\n",
            "Requirement already satisfied: fonttools>=4.22.0 in /usr/local/lib/python3.9/dist-packages (from matplotlib->wordcloud) (4.39.0)\n",
            "Requirement already satisfied: cycler>=0.10 in /usr/local/lib/python3.9/dist-packages (from matplotlib->wordcloud) (0.11.0)\n",
            "Requirement already satisfied: python-dateutil>=2.7 in /usr/local/lib/python3.9/dist-packages (from matplotlib->wordcloud) (2.8.2)\n",
            "Requirement already satisfied: kiwisolver>=1.0.1 in /usr/local/lib/python3.9/dist-packages (from matplotlib->wordcloud) (1.4.4)\n",
            "Requirement already satisfied: six>=1.5 in /usr/local/lib/python3.9/dist-packages (from python-dateutil>=2.7->matplotlib->wordcloud) (1.15.0)\n"
          ]
        }
      ]
    },
    {
      "cell_type": "code",
      "execution_count": null,
      "metadata": {
        "id": "4z0nTzWSbUTE",
        "colab": {
          "base_uri": "https://localhost:8080/"
        },
        "outputId": "36e67f26-fb21-44f7-c18a-1aac7c2e8006"
      },
      "outputs": [
        {
          "output_type": "stream",
          "name": "stderr",
          "text": [
            "[nltk_data] Downloading package wordnet to /root/nltk_data...\n",
            "[nltk_data]   Package wordnet is already up-to-date!\n",
            "[nltk_data] Downloading package stopwords to /root/nltk_data...\n",
            "[nltk_data]   Package stopwords is already up-to-date!\n",
            "[nltk_data] Downloading package punkt to /root/nltk_data...\n",
            "[nltk_data]   Package punkt is already up-to-date!\n",
            "[nltk_data] Downloading package omw-1.4 to /root/nltk_data...\n",
            "[nltk_data]   Package omw-1.4 is already up-to-date!\n"
          ]
        }
      ],
      "source": [
        "#Librerias necesarias\n",
        "import numpy as np\n",
        "import pandas as pd\n",
        "from google.colab import drive\n",
        "import random\n",
        "#import rarfile # para descomprimir archivos\n",
        "import json\n",
        "#import csv \n",
        "\n",
        "#para limpiar los datos\n",
        "import nltk\n",
        "nltk.download('wordnet')\n",
        "from nltk.tokenize import word_tokenize\n",
        "from nltk import RegexpTokenizer\n",
        "from nltk.stem import WordNetLemmatizer \n",
        "nltk.download('stopwords')\n",
        "from nltk.corpus import stopwords\n",
        "nltk.download('punkt')\n",
        "from nltk.tokenize import sent_tokenize\n",
        "nltk.download('omw-1.4')\n",
        "import string\n",
        "import unicodedata\n",
        "from num2words import num2words\n",
        "#para reducir la dimensión\n",
        "from sklearn.manifold import TSNE\n",
        "#para representar\n",
        "import matplotlib.pyplot as plt\n",
        "\n",
        "#análisis exloratorio\n",
        "from collections import Counter\n",
        "from nltk import ngrams\n",
        "from nltk.probability import FreqDist\n",
        "from wordcloud import WordCloud\n",
        "\n",
        "#preprocesado\n",
        "from stop_words import get_stop_words\n",
        "import unicodedata\n",
        "import re\n",
        "from sklearn.utils import shuffle\n",
        "\n",
        "#modelado\n",
        "from sklearn.feature_extraction.text import CountVectorizer, TfidfVectorizer \n",
        "from sklearn.feature_selection import chi2\n",
        "from sklearn.pipeline import Pipeline\n",
        "from sklearn.linear_model import LogisticRegression\n",
        "from sklearn.metrics import confusion_matrix\n",
        "import os\n",
        "from sklearn.ensemble import GradientBoostingClassifier\n",
        "from sklearn.model_selection import GridSearchCV\n",
        "import tensorflow\n",
        "from tensorflow import keras\n",
        "from keras.utils import pad_sequences\n",
        "from keras.preprocessing.text import Tokenizer\n",
        "from keras.models import Sequential\n",
        "from sklearn.svm import SVC\n",
        "from keras.layers import Embedding, LSTM, Dense, Dropout, GRUV2, SimpleRNN\n",
        "import pickle #para guardar los modelos\n",
        "#reporte\n",
        "from sklearn.metrics import classification_report, accuracy_score, roc_curve, precision_recall_curve\n"
      ]
    },
    {
      "cell_type": "markdown",
      "source": [
        "##1. Carga de datos"
      ],
      "metadata": {
        "id": "ldJRNKDHdFWm"
      }
    },
    {
      "cell_type": "code",
      "source": [
        "# Montamos GDrive\n",
        "from google.colab import drive\n",
        "drive.mount('/content/drive')"
      ],
      "metadata": {
        "colab": {
          "base_uri": "https://localhost:8080/"
        },
        "id": "ZMR7XcldYvEs",
        "outputId": "9bf0760a-041b-4e8a-dbee-7b2b4034572c"
      },
      "execution_count": null,
      "outputs": [
        {
          "output_type": "stream",
          "name": "stdout",
          "text": [
            "Drive already mounted at /content/drive; to attempt to forcibly remount, call drive.mount(\"/content/drive\", force_remount=True).\n"
          ]
        }
      ]
    },
    {
      "cell_type": "code",
      "source": [
        "#cargamos los datos necesarios desde nuestro google drive\n",
        "path = '/content/drive/MyDrive/NLP/'\n",
        "\n",
        "train_clean = pd.read_csv(f'{path}train_clean.csv')\n",
        "test_clean= pd.read_csv(f'{path}test_clean.csv')"
      ],
      "metadata": {
        "id": "2hC4pao7x_0s"
      },
      "execution_count": null,
      "outputs": []
    },
    {
      "cell_type": "code",
      "source": [
        "train_clean"
      ],
      "metadata": {
        "colab": {
          "base_uri": "https://localhost:8080/",
          "height": 423
        },
        "id": "OCf5Zhqj1T9c",
        "outputId": "242c4dec-8337-4789-8e76-fc843c2b8774"
      },
      "execution_count": null,
      "outputs": [
        {
          "output_type": "execute_result",
          "data": {
            "text/plain": [
              "                                           review_clean  sentiment_label\n",
              "0     notice noodle dry like sit awhile notice_noodl...                0\n",
              "1     seafood okay overall lack flavor underwhelming...                0\n",
              "2     great nigiri giant cut fish great_nigiri nigir...                1\n",
              "3     sister always get chicken salad croissant say ...                1\n",
              "4     ive donut truck one occasion standard goto cho...                1\n",
              "...                                                 ...              ...\n",
              "5511  lot different dip sauce great happy hour speci...                1\n",
              "5512  great street taco cilantro cheese topthey tast...                1\n",
              "5513  delicious large pizza great variety friendly s...                1\n",
              "5514  food pork carnitas tender well season flour to...                1\n",
              "5515  bruschetta appetizer okay kind cheap bruschett...                0\n",
              "\n",
              "[5516 rows x 2 columns]"
            ],
            "text/html": [
              "\n",
              "  <div id=\"df-cfd20003-ff51-440c-8281-a526556c7195\">\n",
              "    <div class=\"colab-df-container\">\n",
              "      <div>\n",
              "<style scoped>\n",
              "    .dataframe tbody tr th:only-of-type {\n",
              "        vertical-align: middle;\n",
              "    }\n",
              "\n",
              "    .dataframe tbody tr th {\n",
              "        vertical-align: top;\n",
              "    }\n",
              "\n",
              "    .dataframe thead th {\n",
              "        text-align: right;\n",
              "    }\n",
              "</style>\n",
              "<table border=\"1\" class=\"dataframe\">\n",
              "  <thead>\n",
              "    <tr style=\"text-align: right;\">\n",
              "      <th></th>\n",
              "      <th>review_clean</th>\n",
              "      <th>sentiment_label</th>\n",
              "    </tr>\n",
              "  </thead>\n",
              "  <tbody>\n",
              "    <tr>\n",
              "      <th>0</th>\n",
              "      <td>notice noodle dry like sit awhile notice_noodl...</td>\n",
              "      <td>0</td>\n",
              "    </tr>\n",
              "    <tr>\n",
              "      <th>1</th>\n",
              "      <td>seafood okay overall lack flavor underwhelming...</td>\n",
              "      <td>0</td>\n",
              "    </tr>\n",
              "    <tr>\n",
              "      <th>2</th>\n",
              "      <td>great nigiri giant cut fish great_nigiri nigir...</td>\n",
              "      <td>1</td>\n",
              "    </tr>\n",
              "    <tr>\n",
              "      <th>3</th>\n",
              "      <td>sister always get chicken salad croissant say ...</td>\n",
              "      <td>1</td>\n",
              "    </tr>\n",
              "    <tr>\n",
              "      <th>4</th>\n",
              "      <td>ive donut truck one occasion standard goto cho...</td>\n",
              "      <td>1</td>\n",
              "    </tr>\n",
              "    <tr>\n",
              "      <th>...</th>\n",
              "      <td>...</td>\n",
              "      <td>...</td>\n",
              "    </tr>\n",
              "    <tr>\n",
              "      <th>5511</th>\n",
              "      <td>lot different dip sauce great happy hour speci...</td>\n",
              "      <td>1</td>\n",
              "    </tr>\n",
              "    <tr>\n",
              "      <th>5512</th>\n",
              "      <td>great street taco cilantro cheese topthey tast...</td>\n",
              "      <td>1</td>\n",
              "    </tr>\n",
              "    <tr>\n",
              "      <th>5513</th>\n",
              "      <td>delicious large pizza great variety friendly s...</td>\n",
              "      <td>1</td>\n",
              "    </tr>\n",
              "    <tr>\n",
              "      <th>5514</th>\n",
              "      <td>food pork carnitas tender well season flour to...</td>\n",
              "      <td>1</td>\n",
              "    </tr>\n",
              "    <tr>\n",
              "      <th>5515</th>\n",
              "      <td>bruschetta appetizer okay kind cheap bruschett...</td>\n",
              "      <td>0</td>\n",
              "    </tr>\n",
              "  </tbody>\n",
              "</table>\n",
              "<p>5516 rows × 2 columns</p>\n",
              "</div>\n",
              "      <button class=\"colab-df-convert\" onclick=\"convertToInteractive('df-cfd20003-ff51-440c-8281-a526556c7195')\"\n",
              "              title=\"Convert this dataframe to an interactive table.\"\n",
              "              style=\"display:none;\">\n",
              "        \n",
              "  <svg xmlns=\"http://www.w3.org/2000/svg\" height=\"24px\"viewBox=\"0 0 24 24\"\n",
              "       width=\"24px\">\n",
              "    <path d=\"M0 0h24v24H0V0z\" fill=\"none\"/>\n",
              "    <path d=\"M18.56 5.44l.94 2.06.94-2.06 2.06-.94-2.06-.94-.94-2.06-.94 2.06-2.06.94zm-11 1L8.5 8.5l.94-2.06 2.06-.94-2.06-.94L8.5 2.5l-.94 2.06-2.06.94zm10 10l.94 2.06.94-2.06 2.06-.94-2.06-.94-.94-2.06-.94 2.06-2.06.94z\"/><path d=\"M17.41 7.96l-1.37-1.37c-.4-.4-.92-.59-1.43-.59-.52 0-1.04.2-1.43.59L10.3 9.45l-7.72 7.72c-.78.78-.78 2.05 0 2.83L4 21.41c.39.39.9.59 1.41.59.51 0 1.02-.2 1.41-.59l7.78-7.78 2.81-2.81c.8-.78.8-2.07 0-2.86zM5.41 20L4 18.59l7.72-7.72 1.47 1.35L5.41 20z\"/>\n",
              "  </svg>\n",
              "      </button>\n",
              "      \n",
              "  <style>\n",
              "    .colab-df-container {\n",
              "      display:flex;\n",
              "      flex-wrap:wrap;\n",
              "      gap: 12px;\n",
              "    }\n",
              "\n",
              "    .colab-df-convert {\n",
              "      background-color: #E8F0FE;\n",
              "      border: none;\n",
              "      border-radius: 50%;\n",
              "      cursor: pointer;\n",
              "      display: none;\n",
              "      fill: #1967D2;\n",
              "      height: 32px;\n",
              "      padding: 0 0 0 0;\n",
              "      width: 32px;\n",
              "    }\n",
              "\n",
              "    .colab-df-convert:hover {\n",
              "      background-color: #E2EBFA;\n",
              "      box-shadow: 0px 1px 2px rgba(60, 64, 67, 0.3), 0px 1px 3px 1px rgba(60, 64, 67, 0.15);\n",
              "      fill: #174EA6;\n",
              "    }\n",
              "\n",
              "    [theme=dark] .colab-df-convert {\n",
              "      background-color: #3B4455;\n",
              "      fill: #D2E3FC;\n",
              "    }\n",
              "\n",
              "    [theme=dark] .colab-df-convert:hover {\n",
              "      background-color: #434B5C;\n",
              "      box-shadow: 0px 1px 3px 1px rgba(0, 0, 0, 0.15);\n",
              "      filter: drop-shadow(0px 1px 2px rgba(0, 0, 0, 0.3));\n",
              "      fill: #FFFFFF;\n",
              "    }\n",
              "  </style>\n",
              "\n",
              "      <script>\n",
              "        const buttonEl =\n",
              "          document.querySelector('#df-cfd20003-ff51-440c-8281-a526556c7195 button.colab-df-convert');\n",
              "        buttonEl.style.display =\n",
              "          google.colab.kernel.accessAllowed ? 'block' : 'none';\n",
              "\n",
              "        async function convertToInteractive(key) {\n",
              "          const element = document.querySelector('#df-cfd20003-ff51-440c-8281-a526556c7195');\n",
              "          const dataTable =\n",
              "            await google.colab.kernel.invokeFunction('convertToInteractive',\n",
              "                                                     [key], {});\n",
              "          if (!dataTable) return;\n",
              "\n",
              "          const docLinkHtml = 'Like what you see? Visit the ' +\n",
              "            '<a target=\"_blank\" href=https://colab.research.google.com/notebooks/data_table.ipynb>data table notebook</a>'\n",
              "            + ' to learn more about interactive tables.';\n",
              "          element.innerHTML = '';\n",
              "          dataTable['output_type'] = 'display_data';\n",
              "          await google.colab.output.renderOutput(dataTable, element);\n",
              "          const docLink = document.createElement('div');\n",
              "          docLink.innerHTML = docLinkHtml;\n",
              "          element.appendChild(docLink);\n",
              "        }\n",
              "      </script>\n",
              "    </div>\n",
              "  </div>\n",
              "  "
            ]
          },
          "metadata": {},
          "execution_count": 6
        }
      ]
    },
    {
      "cell_type": "code",
      "source": [
        "test_clean"
      ],
      "metadata": {
        "colab": {
          "base_uri": "https://localhost:8080/",
          "height": 423
        },
        "id": "viRewjZN1T_3",
        "outputId": "b1976629-e177-4f38-c0e0-2ea9ca44928e"
      },
      "execution_count": null,
      "outputs": [
        {
          "output_type": "execute_result",
          "data": {
            "text/plain": [
              "                                           review_clean  sentiment_label\n",
              "0     chicken really crispy poulet est vraiment crou...                1\n",
              "1     mexican joint average nothing special except p...                0\n",
              "2     pocahontas pancake locate virginia beach ocean...                0\n",
              "3     woman speaker pushy slow time give diet drpepp...                0\n",
              "4     grill chicken black bean rice grill_chicken ch...                1\n",
              "...                                                 ...              ...\n",
              "1834  fry good bowl mine come half full burger come ...                0\n",
              "1835  find portion small price point pay quite bite ...                1\n",
              "1836  time bloody mary also order buffalo cauliflowe...                0\n",
              "1837  first time beignet think amaze hot light fluff...                0\n",
              "1838  delicious meatball pizza tasty crust delicious...                1\n",
              "\n",
              "[1839 rows x 2 columns]"
            ],
            "text/html": [
              "\n",
              "  <div id=\"df-33c08876-c0f2-4362-815e-f907ec537f90\">\n",
              "    <div class=\"colab-df-container\">\n",
              "      <div>\n",
              "<style scoped>\n",
              "    .dataframe tbody tr th:only-of-type {\n",
              "        vertical-align: middle;\n",
              "    }\n",
              "\n",
              "    .dataframe tbody tr th {\n",
              "        vertical-align: top;\n",
              "    }\n",
              "\n",
              "    .dataframe thead th {\n",
              "        text-align: right;\n",
              "    }\n",
              "</style>\n",
              "<table border=\"1\" class=\"dataframe\">\n",
              "  <thead>\n",
              "    <tr style=\"text-align: right;\">\n",
              "      <th></th>\n",
              "      <th>review_clean</th>\n",
              "      <th>sentiment_label</th>\n",
              "    </tr>\n",
              "  </thead>\n",
              "  <tbody>\n",
              "    <tr>\n",
              "      <th>0</th>\n",
              "      <td>chicken really crispy poulet est vraiment crou...</td>\n",
              "      <td>1</td>\n",
              "    </tr>\n",
              "    <tr>\n",
              "      <th>1</th>\n",
              "      <td>mexican joint average nothing special except p...</td>\n",
              "      <td>0</td>\n",
              "    </tr>\n",
              "    <tr>\n",
              "      <th>2</th>\n",
              "      <td>pocahontas pancake locate virginia beach ocean...</td>\n",
              "      <td>0</td>\n",
              "    </tr>\n",
              "    <tr>\n",
              "      <th>3</th>\n",
              "      <td>woman speaker pushy slow time give diet drpepp...</td>\n",
              "      <td>0</td>\n",
              "    </tr>\n",
              "    <tr>\n",
              "      <th>4</th>\n",
              "      <td>grill chicken black bean rice grill_chicken ch...</td>\n",
              "      <td>1</td>\n",
              "    </tr>\n",
              "    <tr>\n",
              "      <th>...</th>\n",
              "      <td>...</td>\n",
              "      <td>...</td>\n",
              "    </tr>\n",
              "    <tr>\n",
              "      <th>1834</th>\n",
              "      <td>fry good bowl mine come half full burger come ...</td>\n",
              "      <td>0</td>\n",
              "    </tr>\n",
              "    <tr>\n",
              "      <th>1835</th>\n",
              "      <td>find portion small price point pay quite bite ...</td>\n",
              "      <td>1</td>\n",
              "    </tr>\n",
              "    <tr>\n",
              "      <th>1836</th>\n",
              "      <td>time bloody mary also order buffalo cauliflowe...</td>\n",
              "      <td>0</td>\n",
              "    </tr>\n",
              "    <tr>\n",
              "      <th>1837</th>\n",
              "      <td>first time beignet think amaze hot light fluff...</td>\n",
              "      <td>0</td>\n",
              "    </tr>\n",
              "    <tr>\n",
              "      <th>1838</th>\n",
              "      <td>delicious meatball pizza tasty crust delicious...</td>\n",
              "      <td>1</td>\n",
              "    </tr>\n",
              "  </tbody>\n",
              "</table>\n",
              "<p>1839 rows × 2 columns</p>\n",
              "</div>\n",
              "      <button class=\"colab-df-convert\" onclick=\"convertToInteractive('df-33c08876-c0f2-4362-815e-f907ec537f90')\"\n",
              "              title=\"Convert this dataframe to an interactive table.\"\n",
              "              style=\"display:none;\">\n",
              "        \n",
              "  <svg xmlns=\"http://www.w3.org/2000/svg\" height=\"24px\"viewBox=\"0 0 24 24\"\n",
              "       width=\"24px\">\n",
              "    <path d=\"M0 0h24v24H0V0z\" fill=\"none\"/>\n",
              "    <path d=\"M18.56 5.44l.94 2.06.94-2.06 2.06-.94-2.06-.94-.94-2.06-.94 2.06-2.06.94zm-11 1L8.5 8.5l.94-2.06 2.06-.94-2.06-.94L8.5 2.5l-.94 2.06-2.06.94zm10 10l.94 2.06.94-2.06 2.06-.94-2.06-.94-.94-2.06-.94 2.06-2.06.94z\"/><path d=\"M17.41 7.96l-1.37-1.37c-.4-.4-.92-.59-1.43-.59-.52 0-1.04.2-1.43.59L10.3 9.45l-7.72 7.72c-.78.78-.78 2.05 0 2.83L4 21.41c.39.39.9.59 1.41.59.51 0 1.02-.2 1.41-.59l7.78-7.78 2.81-2.81c.8-.78.8-2.07 0-2.86zM5.41 20L4 18.59l7.72-7.72 1.47 1.35L5.41 20z\"/>\n",
              "  </svg>\n",
              "      </button>\n",
              "      \n",
              "  <style>\n",
              "    .colab-df-container {\n",
              "      display:flex;\n",
              "      flex-wrap:wrap;\n",
              "      gap: 12px;\n",
              "    }\n",
              "\n",
              "    .colab-df-convert {\n",
              "      background-color: #E8F0FE;\n",
              "      border: none;\n",
              "      border-radius: 50%;\n",
              "      cursor: pointer;\n",
              "      display: none;\n",
              "      fill: #1967D2;\n",
              "      height: 32px;\n",
              "      padding: 0 0 0 0;\n",
              "      width: 32px;\n",
              "    }\n",
              "\n",
              "    .colab-df-convert:hover {\n",
              "      background-color: #E2EBFA;\n",
              "      box-shadow: 0px 1px 2px rgba(60, 64, 67, 0.3), 0px 1px 3px 1px rgba(60, 64, 67, 0.15);\n",
              "      fill: #174EA6;\n",
              "    }\n",
              "\n",
              "    [theme=dark] .colab-df-convert {\n",
              "      background-color: #3B4455;\n",
              "      fill: #D2E3FC;\n",
              "    }\n",
              "\n",
              "    [theme=dark] .colab-df-convert:hover {\n",
              "      background-color: #434B5C;\n",
              "      box-shadow: 0px 1px 3px 1px rgba(0, 0, 0, 0.15);\n",
              "      filter: drop-shadow(0px 1px 2px rgba(0, 0, 0, 0.3));\n",
              "      fill: #FFFFFF;\n",
              "    }\n",
              "  </style>\n",
              "\n",
              "      <script>\n",
              "        const buttonEl =\n",
              "          document.querySelector('#df-33c08876-c0f2-4362-815e-f907ec537f90 button.colab-df-convert');\n",
              "        buttonEl.style.display =\n",
              "          google.colab.kernel.accessAllowed ? 'block' : 'none';\n",
              "\n",
              "        async function convertToInteractive(key) {\n",
              "          const element = document.querySelector('#df-33c08876-c0f2-4362-815e-f907ec537f90');\n",
              "          const dataTable =\n",
              "            await google.colab.kernel.invokeFunction('convertToInteractive',\n",
              "                                                     [key], {});\n",
              "          if (!dataTable) return;\n",
              "\n",
              "          const docLinkHtml = 'Like what you see? Visit the ' +\n",
              "            '<a target=\"_blank\" href=https://colab.research.google.com/notebooks/data_table.ipynb>data table notebook</a>'\n",
              "            + ' to learn more about interactive tables.';\n",
              "          element.innerHTML = '';\n",
              "          dataTable['output_type'] = 'display_data';\n",
              "          await google.colab.output.renderOutput(dataTable, element);\n",
              "          const docLink = document.createElement('div');\n",
              "          docLink.innerHTML = docLinkHtml;\n",
              "          element.appendChild(docLink);\n",
              "        }\n",
              "      </script>\n",
              "    </div>\n",
              "  </div>\n",
              "  "
            ]
          },
          "metadata": {},
          "execution_count": 7
        }
      ]
    },
    {
      "cell_type": "code",
      "source": [],
      "metadata": {
        "id": "Tyarruz48HYx"
      },
      "execution_count": null,
      "outputs": []
    },
    {
      "cell_type": "markdown",
      "source": [
        "##2. Split de los datos"
      ],
      "metadata": {
        "id": "tUVfa3vx2MMx"
      }
    },
    {
      "cell_type": "code",
      "source": [
        "#dividimos con las columnas 'processedReview' y las etiquetas 'sentiment_label'\n",
        "\n",
        "#split conjunto de train\n",
        "X_train = train_clean['review_clean']\n",
        "y_train = train_clean['sentiment_label']\n",
        "\n",
        "#split conjunto de test\n",
        "X_test = test_clean['review_clean']\n",
        "y_test = test_clean['sentiment_label']\n"
      ],
      "metadata": {
        "id": "DhrUMfLGFliA"
      },
      "execution_count": null,
      "outputs": []
    },
    {
      "cell_type": "code",
      "source": [
        "X_train.iloc[:10]"
      ],
      "metadata": {
        "id": "eoxqnx0_FlkW",
        "colab": {
          "base_uri": "https://localhost:8080/"
        },
        "outputId": "e2327f51-0d8d-419c-df98-94a0de653bd7"
      },
      "execution_count": null,
      "outputs": [
        {
          "output_type": "execute_result",
          "data": {
            "text/plain": [
              "0    notice noodle dry like sit awhile notice_noodl...\n",
              "1    seafood okay overall lack flavor underwhelming...\n",
              "2    great nigiri giant cut fish great_nigiri nigir...\n",
              "3    sister always get chicken salad croissant say ...\n",
              "4    ive donut truck one occasion standard goto cho...\n",
              "5    star dish ropa vieja good star dish churrasco ...\n",
              "6    absolutely love saute crab finger keep come ba...\n",
              "7    chicken sandwich get may odd piece cook wrong ...\n",
              "8    foodeh curry chicken korean bbq beef philly ch...\n",
              "9    piece sear tuna salad calamari salmon bad piec...\n",
              "Name: review_clean, dtype: object"
            ]
          },
          "metadata": {},
          "execution_count": 9
        }
      ]
    },
    {
      "cell_type": "code",
      "source": [
        "# Mezclamos los datos con sus etiquetas\n",
        "x_train, y_train =shuffle(train_clean['review_clean'],train_clean['sentiment_label'])\n",
        "x_test,y_test =shuffle(test_clean['review_clean'],test_clean['sentiment_label'])\n",
        "\n",
        "print(y_train.tail(20))"
      ],
      "metadata": {
        "id": "pKZj3AGGRxwS",
        "colab": {
          "base_uri": "https://localhost:8080/"
        },
        "outputId": "cd8262bd-84d0-4fe9-ca44-13fa4ee84629"
      },
      "execution_count": null,
      "outputs": [
        {
          "output_type": "stream",
          "name": "stdout",
          "text": [
            "400     1\n",
            "868     1\n",
            "5010    0\n",
            "476     1\n",
            "5084    1\n",
            "2218    0\n",
            "5048    0\n",
            "4275    0\n",
            "433     1\n",
            "4613    0\n",
            "639     0\n",
            "3523    0\n",
            "4333    1\n",
            "2954    1\n",
            "5073    0\n",
            "958     0\n",
            "2987    0\n",
            "332     1\n",
            "1392    1\n",
            "4987    0\n",
            "Name: sentiment_label, dtype: int64\n"
          ]
        }
      ]
    },
    {
      "cell_type": "code",
      "source": [
        "#guardamos los datos X_train, X_test, y_train e y_test en nuestro /content #Recuerdo que ahora tengo un objeto de numpy (sklearn)\n",
        "np.save('x_train.npy', x_train)\n",
        "np.save('x_test.npy', x_test)\n",
        "np.save('y_train.npy', y_train)\n",
        "np.save('y_test.npy', y_test)"
      ],
      "metadata": {
        "id": "J6KnkDYxWakO"
      },
      "execution_count": null,
      "outputs": []
    },
    {
      "cell_type": "code",
      "source": [
        "#compruebo que los he guardado en mi disco de colab\n",
        "!ls -lah   "
      ],
      "metadata": {
        "colab": {
          "base_uri": "https://localhost:8080/"
        },
        "outputId": "009b9d0b-9517-4a22-8c0c-854e5e75491d",
        "id": "ctGNAYt724mV"
      },
      "execution_count": null,
      "outputs": [
        {
          "output_type": "stream",
          "name": "stdout",
          "text": [
            "total 267M\n",
            "drwxr-xr-x 1 root root 4.0K Mar 12 16:20 .\n",
            "drwxr-xr-x 1 root root 4.0K Mar 12 13:59 ..\n",
            "-rw-r--r-- 1 root root  75K Mar 12 17:52 clf2.pkl\n",
            "drwxr-xr-x 4 root root 4.0K Mar  9 18:57 .config\n",
            "-rw-r--r-- 1 root root  200 Mar 12 18:23 c_params.npy\n",
            "drwx------ 5 root root 4.0K Mar 12 14:31 drive\n",
            "-rw-r--r-- 1 root root  192 Mar 12 18:01 H_loss.npy\n",
            "-rw-r--r-- 1 root root  192 Mar 12 18:01 H_val_loss.npy\n",
            "-rw-r--r-- 1 root root 8.6K Mar 12 17:51 lr_model.pkl\n",
            "-rw-r--r-- 1 root root 7.4K Mar 12 18:01 m_c_predict.npy\n",
            "-rw-r--r-- 1 root root 160M Mar 12 18:01 model_custom.pkl\n",
            "-rw-r--r-- 1 root root  52M Mar 12 17:52 model_gru.pkl\n",
            "-rw-r--r-- 1 root root  52M Mar 12 17:52 model.pkl\n",
            "drwxr-xr-x 1 root root 4.0K Mar  9 18:58 sample_data\n",
            "-rw-r--r-- 1 root root  200 Mar 12 18:23 test_acc.npy\n",
            "-rw-r--r-- 1 root root  15K Mar 12 17:52 test_predict_clf.npy\n",
            "-rw-r--r-- 1 root root  15K Mar 12 18:23 test_predict.npy\n",
            "-rw-r--r-- 1 root root  200 Mar 12 18:23 train_acc.npy\n",
            "-rw-r--r-- 1 root root  44K Mar 12 18:23 train_predict.npy\n",
            "-rw-r--r-- 1 root root 924K Mar 12 18:35 x_test.npy\n",
            "-rw-r--r-- 1 root root 249K Mar 12 17:51 X_test_tfidf.npy\n",
            "-rw-r--r-- 1 root root 2.5M Mar 12 18:35 x_train.npy\n",
            "-rw-r--r-- 1 root root 763K Mar 12 17:51 X_train_tfidf.npy\n",
            "-rw-r--r-- 1 root root  15K Mar 12 18:35 y_test.npy\n",
            "-rw-r--r-- 1 root root  44K Mar 12 18:35 y_train.npy\n"
          ]
        }
      ]
    },
    {
      "cell_type": "code",
      "execution_count": null,
      "metadata": {
        "id": "ejhJyfEH24mV"
      },
      "outputs": [],
      "source": [
        "# lo movemos a nuestro en nuestro google drive\n",
        "!cp /content/x_train.npy /content/drive/MyDrive/NLP/x_train.npy\n",
        "!cp /content/x_test.npy /content/drive/MyDrive/NLP/x_test.npy\n",
        "!cp /content/y_train.npy /content/drive/MyDrive/NLP/y_train.npy\n",
        "!cp /content/y_test.npy /content/drive/MyDrive/NLP/y_test.npy\n"
      ]
    },
    {
      "cell_type": "markdown",
      "source": [
        "##3. Extracción de características"
      ],
      "metadata": {
        "id": "Gvh9LuD-bqOU"
      }
    },
    {
      "cell_type": "code",
      "source": [
        "# CountVectorizer\n",
        "cv = CountVectorizer(ngram_range=(1, 2), max_features=1000, max_df=0.95, min_df=5)\n",
        "X_train_cv = cv.fit_transform(x_train).toarray() #.toarray() para plotearlo\n",
        "X_test_cv = cv.transform(x_test).toarray()\n",
        "\n",
        "# TfIdfVectorizer \n",
        "tfidf = TfidfVectorizer(ngram_range=(1, 2), max_features=1000, max_df=0.95, min_df=5)\n",
        "X_train_tfidf = tfidf.fit_transform(x_train)\n",
        "X_test_tfidf = tfidf.transform(x_test)"
      ],
      "metadata": {
        "id": "cwEpPTP7_fPH"
      },
      "execution_count": null,
      "outputs": []
    },
    {
      "cell_type": "code",
      "source": [
        "#guardamos las características X_train_tfidf, X_test_tfidf, en nuestro /content \n",
        "np.save('X_train_tfidf.npy', X_train_tfidf)\n",
        "np.save('X_test_tfidf.npy', X_test_tfidf)"
      ],
      "metadata": {
        "id": "VFzcxRXGbg9M"
      },
      "execution_count": null,
      "outputs": []
    },
    {
      "cell_type": "code",
      "source": [
        "#compruebo que los he guardado en mi disco de colab\n",
        "!ls -lah   X_test_tfidf X_train_tfidf"
      ],
      "metadata": {
        "colab": {
          "base_uri": "https://localhost:8080/"
        },
        "outputId": "596e8158-6fab-435e-d9f9-c2e9890c368b",
        "id": "CUI-OYuGbg9N"
      },
      "execution_count": null,
      "outputs": [
        {
          "output_type": "stream",
          "name": "stdout",
          "text": [
            "ls: cannot access 'X_test_tfidf': No such file or directory\n",
            "ls: cannot access 'X_train_tfidf': No such file or directory\n"
          ]
        }
      ]
    },
    {
      "cell_type": "code",
      "execution_count": null,
      "metadata": {
        "id": "DMTe5VdFbg9N"
      },
      "outputs": [],
      "source": [
        "# lo movemos a nuestro en nuestro google drive\n",
        "!cp /content/X_train_tfidf.npy /content/drive/MyDrive/NLP/X_train_tfidf.npy\n",
        "!cp /content/X_test_tfidf.npy /content/drive/MyDrive/NLP/X_test_tfidf.npy"
      ]
    },
    {
      "cell_type": "code",
      "source": [
        "print(list(tfidf.vocabulary_.items())[:20])"
      ],
      "metadata": {
        "colab": {
          "base_uri": "https://localhost:8080/"
        },
        "id": "nLu0la__Ox8z",
        "outputId": "1598bc49-0b73-45f9-afbc-327ddee872d9"
      },
      "execution_count": null,
      "outputs": [
        {
          "output_type": "stream",
          "name": "stdout",
          "text": [
            "[('order', 638), ('shrimp', 807), ('poboy', 700), ('philly', 681), ('chicken', 159), ('tender', 908), ('meal', 559), ('fry', 378), ('drink', 288), ('honey', 456), ('bbq', 54), ('sauce', 779), ('order_shrimp', 647), ('chicken_tender', 175), ('bbq_sauce', 56), ('order shrimp', 642), ('chicken tender', 165), ('bbq sauce', 55), ('get', 401), ('wrong', 992)]\n"
          ]
        }
      ]
    },
    {
      "cell_type": "code",
      "execution_count": null,
      "metadata": {
        "colab": {
          "base_uri": "https://localhost:8080/"
        },
        "id": "lqg1i_ZrMhqb",
        "outputId": "bd85a36a-a7d5-45a9-aed0-988115a83f4f"
      },
      "outputs": [
        {
          "output_type": "stream",
          "name": "stdout",
          "text": [
            "1000\n"
          ]
        }
      ],
      "source": [
        "print(len(tfidf.vocabulary_))"
      ]
    },
    {
      "cell_type": "markdown",
      "source": [
        "##3.1 Frecuencia de las palabras"
      ],
      "metadata": {
        "id": "n8-g8pMuyMsn"
      }
    },
    {
      "cell_type": "code",
      "execution_count": null,
      "metadata": {
        "id": "wahQ0kz0WvcN",
        "colab": {
          "base_uri": "https://localhost:8080/",
          "height": 279
        },
        "outputId": "4864913d-5b32-4c0a-c6da-fa70328b76c7"
      },
      "outputs": [
        {
          "output_type": "display_data",
          "data": {
            "text/plain": [
              "<Figure size 432x288 with 1 Axes>"
            ],
            "image/png": "[encoded data removed]"
          },
          "metadata": {
            "needs_background": "light"
          }
        }
      ],
      "source": [
        "#Frecuencia de las palabras\n",
        "plt.plot(X_train_cv[5,:]) #CountVectorized train en array\n",
        "plt.xlabel('Word')\n",
        "plt.ylabel('Count')\n",
        "plt.show()"
      ]
    },
    {
      "cell_type": "code",
      "execution_count": null,
      "metadata": {
        "id": "ZDD50OJ-vVOV",
        "colab": {
          "base_uri": "https://localhost:8080/",
          "height": 283
        },
        "outputId": "193c9eb9-483b-4794-c4ec-947edf791fdc"
      },
      "outputs": [
        {
          "output_type": "display_data",
          "data": {
            "text/plain": [
              "<Figure size 432x288 with 1 Axes>"
            ],
            "image/png": "[encoded data removed]"
          },
          "metadata": {
            "needs_background": "light"
          }
        }
      ],
      "source": [
        "\n",
        "#Observamos la ley de Zipf\n",
        "word_freq = X_train_cv.sum(axis=0)\n",
        "\n",
        "sorted_word_freq = np.sort(word_freq)[::-1]\n",
        "\n",
        "plt.plot(sorted_word_freq)\n",
        "plt.gca().set_xscale('log')\n",
        "plt.gca().set_yscale('log')\n",
        "plt.xlabel('Rank')\n",
        "plt.ylabel('Number of occurrences')\n",
        "plt.show()"
      ]
    },
    {
      "cell_type": "markdown",
      "source": [
        "###3.2 Score IDF de algunas palabras"
      ],
      "metadata": {
        "id": "GiyUSlEFdf3y"
      }
    },
    {
      "cell_type": "code",
      "source": [
        "words_example = [\n",
        "    'sauce',\n",
        "    'very',\n",
        "    'good',\n",
        "    'amazing',\n",
        "    'great',\n",
        "    'fresh',\n",
        "    'fish',\n",
        "    'deviled',\n",
        "    'but',\n",
        "    'was',\n",
        "    'never',\n",
        "    'not',\n",
        "    'wasn´t'\n",
        "]"
      ],
      "metadata": {
        "id": "TvkGy7X6dhD-"
      },
      "execution_count": null,
      "outputs": []
    },
    {
      "cell_type": "code",
      "source": [
        "vocab_idf = dict(zip(tfidf.get_feature_names_out(), tfidf.idf_))\n",
        "\n",
        "print('{0:20}{1:20}'.format('Palabra', 'IDF'))\n",
        "for word in words_example:\n",
        "    if word not in vocab_idf:\n",
        "        print('{0:20}{1:20}'.format(word, 'OOV'))\n",
        "    else:\n",
        "        print('{0:20}{1:2.3f}'.format(word, vocab_idf[word]))"
      ],
      "metadata": {
        "id": "SGu3EA9Yg2aP",
        "colab": {
          "base_uri": "https://localhost:8080/"
        },
        "outputId": "e349336a-5387-4244-865c-e666fd686d4a"
      },
      "execution_count": null,
      "outputs": [
        {
          "output_type": "stream",
          "name": "stdout",
          "text": [
            "Palabra             IDF                 \n",
            "sauce               3.691\n",
            "very                OOV                 \n",
            "good                2.435\n",
            "amazing             OOV                 \n",
            "great               3.275\n",
            "fresh               3.918\n",
            "fish                3.995\n",
            "deviled             OOV                 \n",
            "but                 OOV                 \n",
            "was                 OOV                 \n",
            "never               5.590\n",
            "not                 OOV                 \n",
            "wasn´t              OOV                 \n"
          ]
        }
      ]
    },
    {
      "cell_type": "markdown",
      "source": [
        "###3.3 Palabras con el TF-IDF en alguna review"
      ],
      "metadata": {
        "id": "xJrkXLcGhYrU"
      }
    },
    {
      "cell_type": "code",
      "source": [
        "i = random.randint(0, len(x_train))\n",
        "print('ID: {}'.format(i))\n",
        "print('Sentiment: {}'.format(y_train.iloc[i]))\n",
        "print('Review: {}'.format(x_train.iloc[i]))"
      ],
      "metadata": {
        "id": "hQbXbg45hCl1",
        "colab": {
          "base_uri": "https://localhost:8080/"
        },
        "outputId": "6a144f0c-995b-45d6-f848-8c4d2686bfb0"
      },
      "execution_count": null,
      "outputs": [
        {
          "output_type": "stream",
          "name": "stdout",
          "text": [
            "ID: 2933\n",
            "Sentiment: 0\n",
            "Review: begin pink lemonade water pepper order fry mac cheese fry cheese ravioli entree consist cannelloni shrimp chicken fettucine alfredo chicken pink tortellini end slice strawberry cheese cake let say food delicious cannelloni tad bite salty noodle pink tortellini delicious chicken alfredo tad bite dry strawberry cheesecake definitely smooth graham crust soft well also begin_pink pink_lemonade lemonade_water water_pepper pepper_order order_fry fry_mac mac_cheese cheese_fry fry_cheese cheese_ravioli ravioli_entree entree_consist consist_cannelloni cannelloni_shrimp shrimp_chicken chicken_fettucine fettucine_alfredo alfredo_chicken chicken_pink pink_tortellini tortellini_end end_slice slice_strawberry strawberry_cheese cheese_cake cake_let let_say say_food food_delicious delicious_cannelloni cannelloni_tad tad_bite bite_salty salty_noodle noodle_pink pink_tortellini tortellini_delicious delicious_chicken chicken_alfredo alfredo_tad tad_bite bite_dry dry_strawberry strawberry_cheesecake cheesecake_definitely definitely_smooth smooth_graham graham_crust crust_soft soft_well well_also begin_pink_lemonade pink_lemonade_water lemonade_water_pepper water_pepper_order pepper_order_fry order_fry_mac fry_mac_cheese mac_cheese_fry cheese_fry_cheese fry_cheese_ravioli cheese_ravioli_entree ravioli_entree_consist entree_consist_cannelloni consist_cannelloni_shrimp cannelloni_shrimp_chicken shrimp_chicken_fettucine chicken_fettucine_alfredo fettucine_alfredo_chicken alfredo_chicken_pink chicken_pink_tortellini pink_tortellini_end tortellini_end_slice end_slice_strawberry slice_strawberry_cheese strawberry_cheese_cake cheese_cake_let cake_let_say let_say_food say_food_delicious food_delicious_cannelloni delicious_cannelloni_tad cannelloni_tad_bite tad_bite_salty bite_salty_noodle salty_noodle_pink noodle_pink_tortellini pink_tortellini_delicious tortellini_delicious_chicken delicious_chicken_alfredo chicken_alfredo_tad alfredo_tad_bite tad_bite_dry bite_dry_strawberry dry_strawberry_cheesecake strawberry_cheesecake_definitely cheesecake_definitely_smooth definitely_smooth_graham smooth_graham_crust graham_crust_soft crust_soft_well soft_well_also\n"
          ]
        }
      ]
    },
    {
      "cell_type": "code",
      "source": [
        "doc_vector = X_train_tfidf[i]\n",
        "df_tfidf = pd.DataFrame(doc_vector.T.todense(), index=tfidf.get_feature_names_out(), columns=['tfidf'])\n",
        "df_tfidf = df_tfidf[df_tfidf['tfidf'] > 0]\n",
        "\n",
        "top_n = 10\n",
        "print('Top {} words with highest TF_IDF in the review {}:\\n{}'.format(top_n, i, df_tfidf.sort_values(by=[\"tfidf\"],ascending=False)[:top_n]))\n",
        "print('\\nTop {} words with lowest TF_IDF in the review {}:\\n{}'.format(top_n, i, df_tfidf.sort_values(by=[\"tfidf\"],ascending=False)[-top_n:]))"
      ],
      "metadata": {
        "id": "PqTMFc4Ahu0X",
        "colab": {
          "base_uri": "https://localhost:8080/"
        },
        "outputId": "53112eeb-40ba-487f-c7ff-4647d64fb673"
      },
      "execution_count": null,
      "outputs": [
        {
          "output_type": "stream",
          "name": "stdout",
          "text": [
            "Top 10 words with highest TF_IDF in the review 2933:\n",
            "               tfidf\n",
            "alfredo     0.329671\n",
            "strawberry  0.305748\n",
            "cheese      0.271879\n",
            "chicken     0.235478\n",
            "bite        0.220336\n",
            "delicious   0.179903\n",
            "consist     0.178808\n",
            "ravioli     0.172546\n",
            "cheese fry  0.171452\n",
            "cheese_fry  0.171452\n",
            "\n",
            "Top 10 words with lowest TF_IDF in the review 2933:\n",
            "           tfidf\n",
            "slice   0.127679\n",
            "noodle  0.123607\n",
            "cake    0.121866\n",
            "say     0.119449\n",
            "dry     0.118991\n",
            "well    0.106603\n",
            "also    0.095576\n",
            "food    0.094952\n",
            "shrimp  0.094523\n",
            "order   0.077670\n"
          ]
        }
      ]
    },
    {
      "cell_type": "markdown",
      "source": [
        "###3.4 Chi2(χ²) scores"
      ],
      "metadata": {
        "id": "pRPsmFkZiD2L"
      }
    },
    {
      "cell_type": "code",
      "source": [
        "# Compute the chi-squared score for each word in the training set and show the values\n",
        "i = 15\n",
        "\n",
        "chi2score = chi2(X_train_tfidf, y_train)[0]\n",
        "scores = list(zip(cv.get_feature_names_out(), chi2score))\n",
        "sorted_scores = sorted(scores, key=lambda x:x[1])\n",
        "topchi2 = list(zip(*sorted_scores[-i:]))\n",
        "x = range(len(topchi2[1]))\n",
        "labels = topchi2[0]\n",
        "\n",
        "plt.figure(figsize=(12, 8))\n",
        "plt.barh(x,topchi2[1], align='center', alpha=0.5)\n",
        "plt.plot(topchi2[1], x, '-o', markersize=5, alpha=0.8)\n",
        "plt.yticks(x, labels, fontsize=12)\n",
        "plt.xlabel('$\\chi^2$', fontsize=26)\n",
        "plt.ylabel('word', fontsize=16)\n",
        "plt.title('Top {} $\\chi^2$ score for each word in the training set'.format(i), fontsize=20)\n",
        "plt.grid()\n",
        "plt.tight_layout()\n",
        "plt.show();"
      ],
      "metadata": {
        "id": "kViDDtraiA6q",
        "colab": {
          "base_uri": "https://localhost:8080/",
          "height": 585
        },
        "outputId": "9891d3ab-049b-4386-b6b7-8cd849b1d98d"
      },
      "execution_count": null,
      "outputs": [
        {
          "output_type": "display_data",
          "data": {
            "text/plain": [
              "<Figure size 864x576 with 1 Axes>"
            ],
            "image/png": "[encoded data removed]"
          },
          "metadata": {
            "needs_background": "light"
          }
        }
      ]
    },
    {
      "cell_type": "markdown",
      "source": [
        "## 4. Entrenamiento modelo de clasificación binaria "
      ],
      "metadata": {
        "id": "1QH00_B6BRwH"
      }
    },
    {
      "cell_type": "code",
      "execution_count": null,
      "metadata": {
        "colab": {
          "base_uri": "https://localhost:8080/"
        },
        "id": "n_Aa1aN1M0Nm",
        "outputId": "08ab8292-35b7-4312-8e0f-2f6d9c7a761e"
      },
      "outputs": [
        {
          "output_type": "stream",
          "name": "stdout",
          "text": [
            "Accuracy for C=0.01: 0.6182707993474714\n",
            "Accuracy for C=0.05: 0.7139749864056553\n",
            "Accuracy for C=0.25: 0.7166938553561718\n",
            "Accuracy for C=0.5: 0.7166938553561718\n",
            "Accuracy for C=1: 0.7145187601957586\n",
            "Accuracy for C=10: 0.7009244154431756\n",
            "Accuracy for C=100: 0.6982055464926591\n",
            "Accuracy for C=1000: 0.6992930940728657\n",
            "Accuracy for C=10000: 0.6992930940728657\n"
          ]
        }
      ],
      "source": [
        "#Regresión logística\n",
        "c_params = [0.01, 0.05, 0.25, 0.5, 1, 10, 100, 1000, 10000] #lista de parámetros\n",
        "\n",
        "train_acc = list()\n",
        "test_acc = list()\n",
        "for c in c_params:\n",
        "    lr_model = LogisticRegression(C=c, solver='lbfgs', max_iter=1000)\n",
        "    lr_model.fit(X_train_tfidf, y_train)\n",
        "    \n",
        "    train_predict = lr_model.predict(X_train_tfidf)\n",
        "    test_predict = lr_model.predict(X_test_tfidf) ####\n",
        "    \n",
        "    print (\"Accuracy for C={}: {}\".format(c, accuracy_score(y_test, test_predict)))\n",
        "    \n",
        "    train_acc.append(accuracy_score(y_train, train_predict))\n",
        "    test_acc.append(accuracy_score(y_test, test_predict))"
      ]
    },
    {
      "cell_type": "code",
      "execution_count": null,
      "metadata": {
        "colab": {
          "base_uri": "https://localhost:8080/"
        },
        "id": "Nhv0R3L5M3U-",
        "outputId": "97fdd882-5fdd-4b6a-804e-5860e7d7c451"
      },
      "outputs": [
        {
          "output_type": "stream",
          "name": "stdout",
          "text": [
            "Confussion matrix:\n",
            "[[562 278]\n",
            " [275 724]]\n",
            "\n",
            "Classification report:\n",
            "              precision    recall  f1-score   support\n",
            "\n",
            "           0       0.67      0.67      0.67       840\n",
            "           1       0.72      0.72      0.72       999\n",
            "\n",
            "    accuracy                           0.70      1839\n",
            "   macro avg       0.70      0.70      0.70      1839\n",
            "weighted avg       0.70      0.70      0.70      1839\n",
            "\n",
            "Accuracy score:0.6992930940728657\n"
          ]
        }
      ],
      "source": [
        "print('Confussion matrix:\\n{}'.format(confusion_matrix(y_test, test_predict)))\n",
        "print('\\nClassification report:\\n{}'.format(classification_report(y_test, test_predict)))\n",
        "print('Accuracy score:{}'.format(accuracy_score(y_test, test_predict)))"
      ]
    },
    {
      "cell_type": "code",
      "execution_count": null,
      "metadata": {
        "colab": {
          "base_uri": "https://localhost:8080/",
          "height": 585
        },
        "id": "em92TI8dM6Af",
        "outputId": "08e6549c-1ec5-428a-848e-bdfd4d91cb71"
      },
      "outputs": [
        {
          "output_type": "display_data",
          "data": {
            "text/plain": [
              "<Figure size 864x576 with 1 Axes>"
            ],
            "image/png": "[encoded data removed]"
          },
          "metadata": {
            "needs_background": "light"
          }
        }
      ],
      "source": [
        "plt.figure(figsize=(12, 8))\n",
        "plt.plot(train_acc, label='train')\n",
        "plt.plot(test_acc, label='test')\n",
        "plt.axvline(np.argmax(test_acc), c='g', ls='--', alpha=0.8)\n",
        "plt.title('Accuracy evolution for different C values')\n",
        "plt.xlabel('C')\n",
        "plt.ylabel('Accuracy')\n",
        "plt.legend()\n",
        "plt.grid()\n",
        "plt.xticks(list(range(len(c_params))), c_params)\n",
        "plt.tight_layout()\n",
        "plt.show()"
      ]
    },
    {
      "cell_type": "code",
      "execution_count": null,
      "metadata": {
        "id": "z5Kvexf50eFq"
      },
      "outputs": [],
      "source": [
        "p, r, thresholds = precision_recall_curve(y_test, test_predict)"
      ]
    },
    {
      "cell_type": "code",
      "execution_count": null,
      "metadata": {
        "id": "JG2yooDHM_rn"
      },
      "outputs": [],
      "source": [
        "def plot_precision_recall_vs_threshold(precisions, recalls, thresholds):\n",
        "    plt.figure(figsize=(8, 8))\n",
        "    plt.title(\"Precision and Recall Scores as a function of the decision threshold\")\n",
        "    plt.plot(thresholds, precisions[:-1], \"b--\", label=\"Precision\")\n",
        "    plt.plot(thresholds, recalls[:-1], \"g-\", label=\"Recall\")\n",
        "    plt.ylabel(\"Score\")\n",
        "    plt.xlabel(\"Decision Threshold\")\n",
        "    plt.legend(loc='best')"
      ]
    },
    {
      "cell_type": "code",
      "execution_count": null,
      "metadata": {
        "colab": {
          "base_uri": "https://localhost:8080/",
          "height": 513
        },
        "id": "3oXmpAFqNjDp",
        "outputId": "841c2801-ef92-419e-f86c-6f7abb84b39b"
      },
      "outputs": [
        {
          "output_type": "display_data",
          "data": {
            "text/plain": [
              "<Figure size 576x576 with 1 Axes>"
            ],
            "image/png": "[encoded data removed]"
          },
          "metadata": {
            "needs_background": "light"
          }
        }
      ],
      "source": [
        "plot_precision_recall_vs_threshold(p, r, thresholds)"
      ]
    },
    {
      "cell_type": "markdown",
      "source": [
        "### 4.1 Predicción"
      ],
      "metadata": {
        "id": "-Oo2mo_mXTs2"
      }
    },
    {
      "cell_type": "code",
      "execution_count": null,
      "metadata": {
        "id": "Txs32QR_pG1v"
      },
      "outputs": [],
      "source": [
        "def predict_review_sentiment(review_index, model):\n",
        "    print('Actual sentiment: {}'.format(test_clean.iloc[review_index]['sentiment_label']))\n",
        "    r = test_clean.iloc[review_index]['review_clean']\n",
        "    print('Prediction: {}'.format(lr_model.predict(tfidf.transform([r]))))"
      ]
    },
    {
      "cell_type": "code",
      "execution_count": null,
      "metadata": {
        "colab": {
          "base_uri": "https://localhost:8080/"
        },
        "id": "n2698dDHNCqn",
        "outputId": "b09c8c14-c5f8-4c70-82a2-5d6776aef29f"
      },
      "outputs": [
        {
          "output_type": "stream",
          "name": "stdout",
          "text": [
            "\n",
            "Review no. 594\n",
            "Actual sentiment: 0\n",
            "Prediction: [0]\n",
            "\n",
            "Review no. 1603\n",
            "Actual sentiment: 1\n",
            "Prediction: [1]\n",
            "\n",
            "Review no. 828\n",
            "Actual sentiment: 1\n",
            "Prediction: [1]\n",
            "\n",
            "Review no. 1649\n",
            "Actual sentiment: 0\n",
            "Prediction: [1]\n",
            "\n",
            "Review no. 94\n",
            "Actual sentiment: 1\n",
            "Prediction: [0]\n"
          ]
        }
      ],
      "source": [
        "for i in random.sample(range(0, len(test_clean)), 5):\n",
        "    print('\\nReview no. {}'.format(i))\n",
        "    predict_review_sentiment(i, lr_model)"
      ]
    },
    {
      "cell_type": "code",
      "source": [
        "#guardamos las características X_train_tfidf, X_test_tfidf, en nuestro /content \n",
        "np.save('train_predict.npy', train_predict)\n",
        "np.save('test_predict.npy', test_predict) \n",
        "np.save('train_acc.npy', train_acc) \n",
        "np.save('test_acc.npy', test_acc)\n",
        "np.save('c_params.npy', c_params)"
      ],
      "metadata": {
        "id": "ahD6_wTHdWw5"
      },
      "execution_count": null,
      "outputs": []
    },
    {
      "cell_type": "code",
      "source": [
        "#compruebo que los he guardado en mi disco de colab\n",
        "!ls -lah   train_predict test_predict train_acc test_acc c_params"
      ],
      "metadata": {
        "colab": {
          "base_uri": "https://localhost:8080/"
        },
        "outputId": "7769dcc0-3fe3-4571-b31b-18e76fb4bc46",
        "id": "wCdSPT9RdWw6"
      },
      "execution_count": null,
      "outputs": [
        {
          "output_type": "stream",
          "name": "stdout",
          "text": [
            "ls: cannot access 'train_predict': No such file or directory\n",
            "ls: cannot access 'test_predict': No such file or directory\n",
            "ls: cannot access 'train_acc': No such file or directory\n",
            "ls: cannot access 'test_acc': No such file or directory\n",
            "ls: cannot access 'c_params': No such file or directory\n"
          ]
        }
      ]
    },
    {
      "cell_type": "code",
      "execution_count": null,
      "metadata": {
        "id": "yRq3SLA1dWw6"
      },
      "outputs": [],
      "source": [
        "# lo movemos a nuestro en nuestro google drive\n",
        "!cp /content/train_predict.npy /content/drive/MyDrive/NLP/train_predict.npy\n",
        "!cp /content/test_predict.npy /content/drive/MyDrive/NLP/test_predict.npy\n",
        "!cp /content/train_acc.npy /content/drive/MyDrive/NLP/train_acc.npy\n",
        "!cp /content/test_acc.npy /content/drive/MyDrive/NLP/test_acc.npy\n",
        "!cp /content/c_params.npy /content/drive/MyDrive/NLP/c_params.npy"
      ]
    },
    {
      "cell_type": "code",
      "source": [
        "#guardamos el modelo en nuestro drive de colab\n",
        "with open('lr_model.pkl', 'wb') as f:\n",
        "    pickle.dump(lr_model, f)"
      ],
      "metadata": {
        "id": "Sr8y1U_rKu8R"
      },
      "execution_count": null,
      "outputs": []
    },
    {
      "cell_type": "code",
      "execution_count": null,
      "metadata": {
        "id": "kwoyNc_cKu8R"
      },
      "outputs": [],
      "source": [
        "# movemos nuestro modelo al Google Drive\n",
        "!cp lr_model.pkl /content/drive/MyDrive/NLP/lr_model.pkl\n"
      ]
    },
    {
      "cell_type": "code",
      "source": [
        "#Comprobamos\n",
        "!ls -lah lr_model.pkl"
      ],
      "metadata": {
        "id": "9HK5vS5_Ku8R",
        "colab": {
          "base_uri": "https://localhost:8080/"
        },
        "outputId": "bdfddaaf-8ec7-4887-c31b-fe70108cdb67"
      },
      "execution_count": null,
      "outputs": [
        {
          "output_type": "stream",
          "name": "stdout",
          "text": [
            "-rw-r--r-- 1 root root 8.6K Mar 12 18:36 lr_model.pkl\n"
          ]
        }
      ]
    },
    {
      "cell_type": "markdown",
      "source": [
        "## 5. Entrenamiento de un modelo con árboles de predicción"
      ],
      "metadata": {
        "id": "tOEsuWzgzpmN"
      }
    },
    {
      "cell_type": "code",
      "source": [
        "#Grid search del gradient boosting classifier\n",
        "from sklearn.ensemble import GradientBoostingClassifier\n",
        "from sklearn.model_selection import GridSearchCV\n",
        "param_grid = {\n",
        "        'n_estimators': [16, 32, 64],\n",
        "        'learning_rate': [0.1, 0.5, 1.0],\n",
        "        'max_depth': [1, 2, 3]\n",
        "}\n",
        "    \n",
        "def grid_gboost(X_train, X_test, y_train, y_test):  \n",
        "    #creo el clasificador      \n",
        "    clf = GradientBoostingClassifier(random_state=42) #n_estimators=n_estimators, learning_rate=1.0,  max_depth=1\n",
        "\n",
        "    #meto una grid_search para buscar los mejores parámetros de entrenamiento\n",
        "    grid_search = GridSearchCV(clf, param_grid, cv=5, n_jobs=-1)\n",
        "    grid_search.fit(X_train_tfidf, y_train)\n",
        "    clf.fit(X_train_tfidf, y_train)\n",
        "    \n",
        "    #guardo los mejores parámetros\n",
        "    best_params = grid_search.best_params_\n",
        "\n",
        "    return best_params"
      ],
      "metadata": {
        "id": "R8uN_wYfzsBb"
      },
      "execution_count": null,
      "outputs": []
    },
    {
      "cell_type": "code",
      "source": [
        "#sacamos los best_params con nuestros datos \n",
        "best_params = grid_gboost(X_train_tfidf,X_test_tfidf,y_train,y_test)\n",
        "#entrenamos de nuevo con los mejores parámetros \n",
        "clf2 = GradientBoostingClassifier(**best_params, random_state=42)\n",
        "clf2.fit(X_train_tfidf, y_train)"
      ],
      "metadata": {
        "colab": {
          "base_uri": "https://localhost:8080/",
          "height": 91
        },
        "id": "l_Qs-PW11MA9",
        "outputId": "d9b04e96-0523-49f2-ad7e-7e00ca75cb12"
      },
      "execution_count": null,
      "outputs": [
        {
          "output_type": "execute_result",
          "data": {
            "text/plain": [
              "GradientBoostingClassifier(learning_rate=0.5, max_depth=2, n_estimators=64,\n",
              "                           random_state=42)"
            ],
            "text/html": [
              "<style>#sk-container-id-1 {color: black;background-color: white;}#sk-container-id-1 pre{padding: 0;}#sk-container-id-1 div.sk-toggleable {background-color: white;}#sk-container-id-1 label.sk-toggleable__label {cursor: pointer;display: block;width: 100%;margin-bottom: 0;padding: 0.3em;box-sizing: border-box;text-align: center;}#sk-container-id-1 label.sk-toggleable__label-arrow:before {content: \"▸\";float: left;margin-right: 0.25em;color: #696969;}#sk-container-id-1 label.sk-toggleable__label-arrow:hover:before {color: black;}#sk-container-id-1 div.sk-estimator:hover label.sk-toggleable__label-arrow:before {color: black;}#sk-container-id-1 div.sk-toggleable__content {max-height: 0;max-width: 0;overflow: hidden;text-align: left;background-color: #f0f8ff;}#sk-container-id-1 div.sk-toggleable__content pre {margin: 0.2em;color: black;border-radius: 0.25em;background-color: #f0f8ff;}#sk-container-id-1 input.sk-toggleable__control:checked~div.sk-toggleable__content {max-height: 200px;max-width: 100%;overflow: auto;}#sk-container-id-1 input.sk-toggleable__control:checked~label.sk-toggleable__label-arrow:before {content: \"▾\";}#sk-container-id-1 div.sk-estimator input.sk-toggleable__control:checked~label.sk-toggleable__label {background-color: #d4ebff;}#sk-container-id-1 div.sk-label input.sk-toggleable__control:checked~label.sk-toggleable__label {background-color: #d4ebff;}#sk-container-id-1 input.sk-hidden--visually {border: 0;clip: rect(1px 1px 1px 1px);clip: rect(1px, 1px, 1px, 1px);height: 1px;margin: -1px;overflow: hidden;padding: 0;position: absolute;width: 1px;}#sk-container-id-1 div.sk-estimator {font-family: monospace;background-color: #f0f8ff;border: 1px dotted black;border-radius: 0.25em;box-sizing: border-box;margin-bottom: 0.5em;}#sk-container-id-1 div.sk-estimator:hover {background-color: #d4ebff;}#sk-container-id-1 div.sk-parallel-item::after {content: \"\";width: 100%;border-bottom: 1px solid gray;flex-grow: 1;}#sk-container-id-1 div.sk-label:hover label.sk-toggleable__label {background-color: #d4ebff;}#sk-container-id-1 div.sk-serial::before {content: \"\";position: absolute;border-left: 1px solid gray;box-sizing: border-box;top: 0;bottom: 0;left: 50%;z-index: 0;}#sk-container-id-1 div.sk-serial {display: flex;flex-direction: column;align-items: center;background-color: white;padding-right: 0.2em;padding-left: 0.2em;position: relative;}#sk-container-id-1 div.sk-item {position: relative;z-index: 1;}#sk-container-id-1 div.sk-parallel {display: flex;align-items: stretch;justify-content: center;background-color: white;position: relative;}#sk-container-id-1 div.sk-item::before, #sk-container-id-1 div.sk-parallel-item::before {content: \"\";position: absolute;border-left: 1px solid gray;box-sizing: border-box;top: 0;bottom: 0;left: 50%;z-index: -1;}#sk-container-id-1 div.sk-parallel-item {display: flex;flex-direction: column;z-index: 1;position: relative;background-color: white;}#sk-container-id-1 div.sk-parallel-item:first-child::after {align-self: flex-end;width: 50%;}#sk-container-id-1 div.sk-parallel-item:last-child::after {align-self: flex-start;width: 50%;}#sk-container-id-1 div.sk-parallel-item:only-child::after {width: 0;}#sk-container-id-1 div.sk-dashed-wrapped {border: 1px dashed gray;margin: 0 0.4em 0.5em 0.4em;box-sizing: border-box;padding-bottom: 0.4em;background-color: white;}#sk-container-id-1 div.sk-label label {font-family: monospace;font-weight: bold;display: inline-block;line-height: 1.2em;}#sk-container-id-1 div.sk-label-container {text-align: center;}#sk-container-id-1 div.sk-container {/* jupyter's `normalize.less` sets `[hidden] { display: none; }` but bootstrap.min.css set `[hidden] { display: none !important; }` so we also need the `!important` here to be able to override the default hidden behavior on the sphinx rendered scikit-learn.org. See: https://github.com/scikit-learn/scikit-learn/issues/21755 */display: inline-block !important;position: relative;}#sk-container-id-1 div.sk-text-repr-fallback {display: none;}</style><div id=\"sk-container-id-1\" class=\"sk-top-container\"><div class=\"sk-text-repr-fallback\"><pre>GradientBoostingClassifier(learning_rate=0.5, max_depth=2, n_estimators=64,\n",
              "                           random_state=42)</pre><b>In a Jupyter environment, please rerun this cell to show the HTML representation or trust the notebook. <br />On GitHub, the HTML representation is unable to render, please try loading this page with nbviewer.org.</b></div><div class=\"sk-container\" hidden><div class=\"sk-item\"><div class=\"sk-estimator sk-toggleable\"><input class=\"sk-toggleable__control sk-hidden--visually\" id=\"sk-estimator-id-1\" type=\"checkbox\" checked><label for=\"sk-estimator-id-1\" class=\"sk-toggleable__label sk-toggleable__label-arrow\">GradientBoostingClassifier</label><div class=\"sk-toggleable__content\"><pre>GradientBoostingClassifier(learning_rate=0.5, max_depth=2, n_estimators=64,\n",
              "                           random_state=42)</pre></div></div></div></div></div>"
            ]
          },
          "metadata": {},
          "execution_count": 42
        }
      ]
    },
    {
      "cell_type": "code",
      "source": [
        "#predict y algunas métricas\n",
        "test_predict_clf= clf2.predict(X_test_tfidf)\n",
        "\n",
        "print('Confusion matrix:\\n{}'.format(confusion_matrix(y_test, test_predict_clf)))\n",
        "print('\\nClassification report:\\n{}'.format(classification_report(y_test, test_predict_clf)))\n",
        "print('Accuracy score: {:.4f}'.format(accuracy_score(y_test, test_predict_clf)))"
      ],
      "metadata": {
        "colab": {
          "base_uri": "https://localhost:8080/"
        },
        "id": "djs3lTZv1Q0O",
        "outputId": "2bcdeb99-cc4e-4e6d-bac9-9ef7ff95219b"
      },
      "execution_count": null,
      "outputs": [
        {
          "output_type": "stream",
          "name": "stdout",
          "text": [
            "Confusion matrix:\n",
            "[[533 307]\n",
            " [210 789]]\n",
            "\n",
            "Classification report:\n",
            "              precision    recall  f1-score   support\n",
            "\n",
            "           0       0.72      0.63      0.67       840\n",
            "           1       0.72      0.79      0.75       999\n",
            "\n",
            "    accuracy                           0.72      1839\n",
            "   macro avg       0.72      0.71      0.71      1839\n",
            "weighted avg       0.72      0.72      0.72      1839\n",
            "\n",
            "Accuracy score: 0.7189\n"
          ]
        }
      ]
    },
    {
      "cell_type": "code",
      "source": [
        "#guardamos los datos en nuestro drive\n",
        "np.save('test_acc.npy', test_acc)\n",
        "np.save('c_params.npy', c_params)\n",
        "\n",
        "#la predición del gboost classif\n",
        "np.save('test_predict_clf.npy',test_predict_clf)"
      ],
      "metadata": {
        "id": "EyUJS4PHk1g4"
      },
      "execution_count": null,
      "outputs": []
    },
    {
      "cell_type": "code",
      "source": [
        "#guardamos el modelo en nuestro drive de colab\n",
        "with open('clf2.pkl', 'wb') as f:\n",
        "    pickle.dump(clf2, f)"
      ],
      "metadata": {
        "id": "bexuD0VHRbsh"
      },
      "execution_count": null,
      "outputs": []
    },
    {
      "cell_type": "code",
      "execution_count": null,
      "metadata": {
        "id": "aks1nLcgRbsh"
      },
      "outputs": [],
      "source": [
        "# movemos nuestro modelo al Google Drive\n",
        "!cp clf2.pkl /content/drive/MyDrive/NLP/clf2.pkl\n",
        "!cp test_predict_clf.npy /content/drive/MyDrive/NLP/test_predict_clf.npy"
      ]
    },
    {
      "cell_type": "code",
      "source": [
        "#Comprobamos\n",
        "!ls -lah clf2.pkl test_predict_clf.npy"
      ],
      "metadata": {
        "colab": {
          "base_uri": "https://localhost:8080/"
        },
        "outputId": "97411c61-6f13-464f-fa2d-c069c7b2d64c",
        "id": "awiBC2fJRbsh"
      },
      "execution_count": null,
      "outputs": [
        {
          "output_type": "stream",
          "name": "stdout",
          "text": [
            "-rw-r--r-- 1 root root 47K Mar 12 18:36 clf2.pkl\n",
            "-rw-r--r-- 1 root root 15K Mar 12 18:36 test_predict_clf.npy\n"
          ]
        }
      ]
    },
    {
      "cell_type": "markdown",
      "source": [
        "##6. Modelado Deep Learning"
      ],
      "metadata": {
        "id": "BLiZDBqM1V1U"
      }
    },
    {
      "cell_type": "markdown",
      "source": [
        "### 6.1 Preparación de los datos "
      ],
      "metadata": {
        "id": "6F-hNRNNO3Vg"
      }
    },
    {
      "cell_type": "code",
      "source": [
        "# Media de palabras en la reviews.\n",
        "# RRN necesitamos establcer el tamaño de neruonas \n",
        "# primero hacer el análisis para ver el número medio y máximo de palabras en las reviews.\n",
        "#si una frase se queda corta, la palabrs restantes se rellenaran de 0. Esto sería negativop\n",
        "max = 0\n",
        "mean = []\n",
        "for example in x_train:\n",
        "  length = len(example)\n",
        "  mean.append(len(example))\n",
        "  if length > max:\n",
        "    max = length"
      ],
      "metadata": {
        "id": "2G0HVPCyr33f"
      },
      "execution_count": null,
      "outputs": []
    },
    {
      "cell_type": "code",
      "execution_count": null,
      "metadata": {
        "id": "2rlL5JDwP_3i",
        "colab": {
          "base_uri": "https://localhost:8080/"
        },
        "outputId": "8554efa9-a9e4-4243-c723-b55742d82e8e"
      },
      "outputs": [
        {
          "output_type": "execute_result",
          "data": {
            "text/plain": [
              "505.57124728063815"
            ]
          },
          "metadata": {},
          "execution_count": 49
        }
      ],
      "source": [
        "sum(mean) / len(mean)"
      ]
    },
    {
      "cell_type": "code",
      "execution_count": null,
      "metadata": {
        "id": "Ufc7drzvP4rS",
        "colab": {
          "base_uri": "https://localhost:8080/"
        },
        "outputId": "e7e276ca-aec1-4579-aa8d-46fe3c3632c6"
      },
      "outputs": [
        {
          "output_type": "execute_result",
          "data": {
            "text/plain": [
              "5042"
            ]
          },
          "metadata": {},
          "execution_count": 50
        }
      ],
      "source": [
        "max"
      ]
    },
    {
      "cell_type": "code",
      "source": [
        "#preparamos X_train y X_test para la CNN\n",
        "mx_w = max #número máx de palabras \n",
        "tokenizer = Tokenizer(num_words= mx_w)\n",
        "\n",
        "x_train_tkns = tokenizer.texts_to_sequences(x_train) #tokenizamos cada frase en una secuencia numérica\n",
        "x_test_tkns = tokenizer.texts_to_sequences(x_test)\n"
      ],
      "metadata": {
        "id": "Y1U_9qHH1XXH"
      },
      "execution_count": null,
      "outputs": []
    },
    {
      "cell_type": "code",
      "source": [
        "max_words = 500 #escogemos una muestra del max de palabras del conjunto de entrenamiento\n",
        "#hacemos el padding\n",
        "X_train = pad_sequences(x_train_tkns, maxlen=max_words)\n",
        "X_test = pad_sequences(x_test_tkns, maxlen=max_words)"
      ],
      "metadata": {
        "id": "8r-iGY1WlUMd"
      },
      "execution_count": null,
      "outputs": []
    },
    {
      "cell_type": "code",
      "source": [
        "# Vectorizador, extractor de características\n",
        "cv = TfidfVectorizer(\n",
        "    max_df=0.95,\n",
        "    min_df=3,\n",
        "    max_features=500, \n",
        "    strip_accents='ascii',\n",
        "    ngram_range=(1, 1)\n",
        ")\n",
        "\n",
        "X_train_ = cv.fit_transform(x_train)\n",
        "X_test_ = cv.transform(x_test)"
      ],
      "metadata": {
        "id": "4YlM6stmbtCQ"
      },
      "execution_count": null,
      "outputs": []
    },
    {
      "cell_type": "markdown",
      "source": [
        "###6.2 Creación del modelo"
      ],
      "metadata": {
        "id": "YMSTocIkWLWv"
      }
    },
    {
      "cell_type": "code",
      "source": [
        "embedding_size = 32\n",
        "vocabulary_size= 138683 #total_words (train, con el que entrenamos)\n",
        "#modelo\n",
        "model = Sequential()\n",
        "model.add(Embedding(vocabulary_size, embedding_size, input_length=max_words))\n",
        "model.add(LSTM(100))\n",
        "model.add(Dense(50, activation='relu'))\n",
        "model.add(Dense(1, activation='sigmoid'))\n",
        "\n",
        "print(model.summary())"
      ],
      "metadata": {
        "id": "HcWa5V93WxqY",
        "colab": {
          "base_uri": "https://localhost:8080/"
        },
        "outputId": "d57585fd-31a2-4ee7-ebf8-72c01a467039"
      },
      "execution_count": null,
      "outputs": [
        {
          "output_type": "stream",
          "name": "stdout",
          "text": [
            "Model: \"sequential\"\n",
            "_________________________________________________________________\n",
            " Layer (type)                Output Shape              Param #   \n",
            "=================================================================\n",
            " embedding (Embedding)       (None, 500, 32)           4437856   \n",
            "                                                                 \n",
            " lstm (LSTM)                 (None, 100)               53200     \n",
            "                                                                 \n",
            " dense (Dense)               (None, 50)                5050      \n",
            "                                                                 \n",
            " dense_1 (Dense)             (None, 1)                 51        \n",
            "                                                                 \n",
            "=================================================================\n",
            "Total params: 4,496,157\n",
            "Trainable params: 4,496,157\n",
            "Non-trainable params: 0\n",
            "_________________________________________________________________\n",
            "None\n"
          ]
        }
      ]
    },
    {
      "cell_type": "code",
      "execution_count": null,
      "metadata": {
        "id": "fiYzO7t8y8cI"
      },
      "outputs": [],
      "source": [
        "model.compile(loss='binary_crossentropy', optimizer='adam', metrics=['accuracy'])"
      ]
    },
    {
      "cell_type": "code",
      "source": [
        "X_train_ = X_train_.toarray()\n",
        "X_test_ = X_test_.toarray()"
      ],
      "metadata": {
        "id": "Im2wtgaJhAwv"
      },
      "execution_count": null,
      "outputs": []
    },
    {
      "cell_type": "code",
      "execution_count": null,
      "metadata": {
        "id": "_ENigjgBzA30",
        "colab": {
          "base_uri": "https://localhost:8080/"
        },
        "outputId": "b5b49123-e5f9-42ca-a39f-fdb1bb0dc560"
      },
      "outputs": [
        {
          "output_type": "stream",
          "name": "stdout",
          "text": [
            "69/69 [==============================] - 6s 34ms/step - loss: 0.6937 - accuracy: 0.5020 - val_loss: 0.6922 - val_accuracy: 0.5217\n"
          ]
        },
        {
          "output_type": "execute_result",
          "data": {
            "text/plain": [
              "<keras.callbacks.History at 0x7ff6b259e910>"
            ]
          },
          "metadata": {},
          "execution_count": 57
        }
      ],
      "source": [
        "batch_size = 64\n",
        "num_epochs = 1\n",
        "\n",
        "model.fit(X_train_, y_train, #con el vector de caracteristicas\n",
        "          validation_split=0.2,\n",
        "          batch_size=batch_size, epochs=num_epochs)"
      ]
    },
    {
      "cell_type": "code",
      "execution_count": null,
      "metadata": {
        "id": "9a1FEXr_zM-7",
        "colab": {
          "base_uri": "https://localhost:8080/"
        },
        "outputId": "89ddd102-60bd-400c-ad1a-c5abcd4d82b0"
      },
      "outputs": [
        {
          "output_type": "stream",
          "name": "stdout",
          "text": [
            "Test accuracy: 0.5432299971580505\n"
          ]
        }
      ],
      "source": [
        "scores = model.evaluate(X_test, y_test, verbose=0)  # returns loss and other metrics specified in model.compile()\n",
        "print(\"Test accuracy:\", scores[1])  # scores[1] should correspond to accuracy if you passed in metrics=['accuracy']"
      ]
    },
    {
      "cell_type": "code",
      "source": [
        "#guardamos el modelo en nuestro drive de colab\n",
        "with open('model.pkl', 'wb') as f:\n",
        "    pickle.dump(model, f)"
      ],
      "metadata": {
        "id": "NOhtyi3LTM3W",
        "colab": {
          "base_uri": "https://localhost:8080/"
        },
        "outputId": "70d606ee-c666-426e-d053-22a8900ebadf"
      },
      "execution_count": null,
      "outputs": [
        {
          "output_type": "stream",
          "name": "stdout",
          "text": [
            "Keras weights file (<HDF5 file \"variables.h5\" (mode r+)>) saving:\n",
            "...layers\n",
            "......dense\n",
            ".........vars\n",
            "............0\n",
            "............1\n",
            "......dense_1\n",
            ".........vars\n",
            "............0\n",
            "............1\n",
            "......embedding\n",
            ".........vars\n",
            "............0\n",
            "......lstm\n",
            ".........cell\n",
            "............vars\n",
            "...............0\n",
            "...............1\n",
            "...............2\n",
            ".........vars\n",
            "...metrics\n",
            "......mean\n",
            ".........vars\n",
            "............0\n",
            "............1\n",
            "......mean_metric_wrapper\n",
            ".........vars\n",
            "............0\n",
            "............1\n",
            "...optimizer\n",
            "......vars\n",
            ".........0\n",
            ".........1\n",
            ".........10\n",
            ".........11\n",
            ".........12\n",
            ".........13\n",
            ".........14\n",
            ".........15\n",
            ".........16\n",
            ".........2\n",
            ".........3\n",
            ".........4\n",
            ".........5\n",
            ".........6\n",
            ".........7\n",
            ".........8\n",
            ".........9\n",
            "...vars\n",
            "Keras model archive saving:\n",
            "File Name                                             Modified             Size\n",
            "metadata.json                                  2023-03-12 18:36:44           64\n",
            "config.json                                    2023-03-12 18:36:44         2629\n",
            "variables.h5                                   2023-03-12 18:36:44     53984328\n"
          ]
        }
      ]
    },
    {
      "cell_type": "code",
      "execution_count": null,
      "metadata": {
        "id": "idogR7IyTM3W"
      },
      "outputs": [],
      "source": [
        "# movemos nuestro modelo al Google Drive\n",
        "!cp model.pkl /content/drive/MyDrive/NLP/model.pkl\n"
      ]
    },
    {
      "cell_type": "code",
      "source": [
        "#Comprobamos\n",
        "!ls -lah model.pkl"
      ],
      "metadata": {
        "id": "U15WBdNpTM3W",
        "colab": {
          "base_uri": "https://localhost:8080/"
        },
        "outputId": "40c6f59a-92be-4652-9e12-cda07d4576d2"
      },
      "execution_count": null,
      "outputs": [
        {
          "output_type": "stream",
          "name": "stdout",
          "text": [
            "-rw-r--r-- 1 root root 52M Mar 12 18:36 model.pkl\n"
          ]
        }
      ]
    },
    {
      "cell_type": "markdown",
      "metadata": {
        "id": "QAscCZtK0c8q"
      },
      "source": [
        "Vamos a ver con GRU:"
      ]
    },
    {
      "cell_type": "code",
      "execution_count": null,
      "metadata": {
        "id": "s8sAJFscz-tr",
        "colab": {
          "base_uri": "https://localhost:8080/"
        },
        "outputId": "fdd15184-4b05-405f-d04b-9954698da332"
      },
      "outputs": [
        {
          "output_type": "stream",
          "name": "stdout",
          "text": [
            "Model: \"sequential_1\"\n",
            "_________________________________________________________________\n",
            " Layer (type)                Output Shape              Param #   \n",
            "=================================================================\n",
            " embedding_1 (Embedding)     (None, 500, 32)           4437856   \n",
            "                                                                 \n",
            " gru (GRU)                   (None, 100)               40200     \n",
            "                                                                 \n",
            " dense_2 (Dense)             (None, 1)                 101       \n",
            "                                                                 \n",
            "=================================================================\n",
            "Total params: 4,478,157\n",
            "Trainable params: 4,478,157\n",
            "Non-trainable params: 0\n",
            "_________________________________________________________________\n",
            "None\n"
          ]
        }
      ],
      "source": [
        "embedding_size = 32\n",
        "model_gru = Sequential()\n",
        "model_gru.add(Embedding(vocabulary_size, embedding_size, input_length=max_words))\n",
        "model_gru.add(GRUV2(100))\n",
        "model_gru.add(Dense(1, activation='sigmoid'))\n",
        "\n",
        "print(model_gru.summary())"
      ]
    },
    {
      "cell_type": "code",
      "execution_count": null,
      "metadata": {
        "id": "dfYp0LxU1xhf"
      },
      "outputs": [],
      "source": [
        "model_gru.compile(loss='binary_crossentropy', optimizer='adam', metrics=['accuracy'])"
      ]
    },
    {
      "cell_type": "code",
      "execution_count": null,
      "metadata": {
        "id": "1aSdbibz1yzw",
        "colab": {
          "base_uri": "https://localhost:8080/"
        },
        "outputId": "18942a87-6690-4690-9171-65afec4c03fa"
      },
      "outputs": [
        {
          "output_type": "stream",
          "name": "stdout",
          "text": [
            "69/69 [==============================] - 4s 30ms/step - loss: 0.6937 - accuracy: 0.5057 - val_loss: 0.6928 - val_accuracy: 0.5217\n"
          ]
        },
        {
          "output_type": "execute_result",
          "data": {
            "text/plain": [
              "<keras.callbacks.History at 0x7ff6b1c37880>"
            ]
          },
          "metadata": {},
          "execution_count": 64
        }
      ],
      "source": [
        "batch_size = 64\n",
        "num_epochs = 1\n",
        "\n",
        "#X_valid, y_valid = X_train[:batch_size], y_train[:batch_size]  # first batch_size samples\n",
        "#X_train2, y_train2 = X_train[batch_size:], y_train[batch_size:]  # rest for training\n",
        "\n",
        "model_gru.fit(X_train_, y_train,\n",
        "          validation_split=0.20,\n",
        "          batch_size=batch_size, epochs=num_epochs)"
      ]
    },
    {
      "cell_type": "code",
      "execution_count": null,
      "metadata": {
        "id": "1LzlI2FO11Pf",
        "colab": {
          "base_uri": "https://localhost:8080/"
        },
        "outputId": "5c09a1ca-8dde-4ba9-df91-40801dbde77f"
      },
      "outputs": [
        {
          "output_type": "stream",
          "name": "stdout",
          "text": [
            "Test accuracy: 0.5432299971580505\n"
          ]
        }
      ],
      "source": [
        "scores = model_gru.evaluate(X_test, y_test, verbose=0)  # returns loss and other metrics specified in model.compile()\n",
        "print(\"Test accuracy:\", scores[1])  # scores[1] should correspond to accuracy if you passed in metrics=['accuracy']"
      ]
    },
    {
      "cell_type": "code",
      "source": [
        "#guardamos el modelo en nuestro drive de colab\n",
        "with open('model_gru.pkl', 'wb') as f:\n",
        "    pickle.dump(model_gru, f)"
      ],
      "metadata": {
        "colab": {
          "base_uri": "https://localhost:8080/"
        },
        "outputId": "fb83aafc-cbf1-4f64-c4c9-c02d44c21ba1",
        "id": "ocgXOGFKAr3z"
      },
      "execution_count": null,
      "outputs": [
        {
          "output_type": "stream",
          "name": "stdout",
          "text": [
            "Keras weights file (<HDF5 file \"variables.h5\" (mode r+)>) saving:\n",
            "...layers\n",
            "......dense\n",
            ".........vars\n",
            "............0\n",
            "............1\n",
            "......embedding\n",
            ".........vars\n",
            "............0\n",
            "......gru\n",
            ".........cell\n",
            "............vars\n",
            "...............0\n",
            "...............1\n",
            "...............2\n",
            ".........vars\n",
            "...metrics\n",
            "......mean\n",
            ".........vars\n",
            "............0\n",
            "............1\n",
            "......mean_metric_wrapper\n",
            ".........vars\n",
            "............0\n",
            "............1\n",
            "...optimizer\n",
            "......vars\n",
            ".........0\n",
            ".........1\n",
            ".........10\n",
            ".........11\n",
            ".........12\n",
            ".........2\n",
            ".........3\n",
            ".........4\n",
            ".........5\n",
            ".........6\n",
            ".........7\n",
            ".........8\n",
            ".........9\n",
            "...vars\n",
            "Keras model archive saving:\n",
            "File Name                                             Modified             Size\n",
            "metadata.json                                  2023-03-12 18:36:50           64\n",
            "config.json                                    2023-03-12 18:36:50         2206\n",
            "variables.h5                                   2023-03-12 18:36:50     53763672\n"
          ]
        }
      ]
    },
    {
      "cell_type": "code",
      "execution_count": null,
      "metadata": {
        "id": "E-M24hFdAr30"
      },
      "outputs": [],
      "source": [
        "# movemos nuestro modelo al Google Drive\n",
        "!cp model_gru.pkl /content/drive/MyDrive/NLP/model_gru.pkl\n"
      ]
    },
    {
      "cell_type": "code",
      "source": [
        "#Comprobamos\n",
        "!ls -lah model_gru.pkl"
      ],
      "metadata": {
        "colab": {
          "base_uri": "https://localhost:8080/"
        },
        "outputId": "1741bb16-926c-44ab-bca0-cc5510d73a00",
        "id": "uO4eU9hyAr30"
      },
      "execution_count": null,
      "outputs": [
        {
          "output_type": "stream",
          "name": "stdout",
          "text": [
            "-rw-r--r-- 1 root root 52M Mar 12 18:36 model_gru.pkl\n"
          ]
        }
      ]
    },
    {
      "cell_type": "markdown",
      "metadata": {
        "id": "E_5Si51_0fEM"
      },
      "source": [
        "La acurracy no mejora. Vamos a probar con RNN:"
      ]
    },
    {
      "cell_type": "code",
      "execution_count": null,
      "metadata": {
        "id": "4cjTljsW0heh",
        "colab": {
          "base_uri": "https://localhost:8080/"
        },
        "outputId": "c1c7c65c-c44c-4a5e-c64b-4b0eab407129"
      },
      "outputs": [
        {
          "output_type": "stream",
          "name": "stdout",
          "text": [
            "Model: \"sequential_2\"\n",
            "_________________________________________________________________\n",
            " Layer (type)                Output Shape              Param #   \n",
            "=================================================================\n",
            " embedding_2 (Embedding)     (None, 500, 32)           4437856   \n",
            "                                                                 \n",
            " simple_rnn (SimpleRNN)      (None, 100)               13300     \n",
            "                                                                 \n",
            " dense_3 (Dense)             (None, 1)                 101       \n",
            "                                                                 \n",
            "=================================================================\n",
            "Total params: 4,451,257\n",
            "Trainable params: 4,451,257\n",
            "Non-trainable params: 0\n",
            "_________________________________________________________________\n",
            "None\n"
          ]
        }
      ],
      "source": [
        "embedding_size = 32\n",
        "model_rnn = Sequential()\n",
        "model_rnn.add(Embedding(vocabulary_size, embedding_size, input_length=max_words))\n",
        "model_rnn.add(SimpleRNN(100))\n",
        "model_rnn.add(Dense(1, activation='sigmoid'))\n",
        "\n",
        "print(model_rnn.summary())"
      ]
    },
    {
      "cell_type": "code",
      "execution_count": null,
      "metadata": {
        "id": "US7sBsoA1-g1"
      },
      "outputs": [],
      "source": [
        "model_rnn.compile(loss='binary_crossentropy', optimizer='adam', metrics=['accuracy'])"
      ]
    },
    {
      "cell_type": "code",
      "execution_count": null,
      "metadata": {
        "id": "VOjkTsmo1_tB",
        "colab": {
          "base_uri": "https://localhost:8080/"
        },
        "outputId": "bef74516-a0d9-4824-b3c3-5c9d9e464c83"
      },
      "outputs": [
        {
          "output_type": "stream",
          "name": "stdout",
          "text": [
            "69/69 [==============================] - 28s 384ms/step - loss: 0.6981 - accuracy: 0.4903 - val_loss: 0.6942 - val_accuracy: 0.5217\n"
          ]
        },
        {
          "output_type": "execute_result",
          "data": {
            "text/plain": [
              "<keras.callbacks.History at 0x7ff6b16d8700>"
            ]
          },
          "metadata": {},
          "execution_count": 71
        }
      ],
      "source": [
        "batch_size = 64\n",
        "num_epochs = 1\n",
        "\n",
        "model_rnn.fit(X_train_, y_train,\n",
        "          validation_split=0.2,\n",
        "          batch_size=batch_size, epochs=num_epochs)"
      ]
    },
    {
      "cell_type": "code",
      "execution_count": null,
      "metadata": {
        "id": "nfluChJ82C_E",
        "colab": {
          "base_uri": "https://localhost:8080/"
        },
        "outputId": "2fb06821-924d-491d-dd37-96f51f3b5d55"
      },
      "outputs": [
        {
          "output_type": "stream",
          "name": "stdout",
          "text": [
            "Test accuracy: 0.5432299971580505\n"
          ]
        }
      ],
      "source": [
        "scores = model_rnn.evaluate(X_test, y_test, verbose=0)  # returns loss and other metrics specified in model.compile()\n",
        "print(\"Test accuracy:\", scores[1])  # scores[1] should correspond to accuracy if you passed in metrics=['accuracy']"
      ]
    },
    {
      "cell_type": "markdown",
      "source": [
        "#####Sigue sin mejorar, vamos a meterle el w2v de embedding"
      ],
      "metadata": {
        "id": "MEKlMeGNDyiC"
      }
    },
    {
      "cell_type": "markdown",
      "metadata": {
        "id": "quunsatuTjOR"
      },
      "source": [
        "# 5. LSTM + word2vec Embedding"
      ]
    },
    {
      "cell_type": "code",
      "source": [
        "#remember: mis tokens son: x_train y x_test con y_train e y_test\n",
        "# y los paddings son x_train_tkns y x_test_tkns\n",
        "\n",
        "#cargamos los modelos del w2v\n",
        "path = '/content/drive/MyDrive/NLP/'\n",
        "\n",
        "with open(f'{path}w2v_model.pkl', 'rb') as f:\n",
        "    w2v_model_tr = pickle.load(f)\n",
        "with open(f'{path}w2v_model_ts.pkl', 'rb') as f:\n",
        "    w2v_model_ts = pickle.load(f)"
      ],
      "metadata": {
        "id": "7VRncLH7C5G7"
      },
      "execution_count": null,
      "outputs": []
    },
    {
      "cell_type": "code",
      "execution_count": null,
      "metadata": {
        "id": "owDKazhkUGfy"
      },
      "outputs": [],
      "source": [
        "# Parámetros del WORD2VEC\n",
        "W2V_SIZE = 300 # tamaño de vectores\n",
        "W2V_WINDOW = 7 # número de palabras que va a mirar alrededor\n",
        "# 32\n",
        "W2V_EPOCH = 5 # número de epoca\n",
        "W2V_MIN_COUNT = 2 #número mínimo de frecuencia\n",
        "\n",
        "# KERAS\n",
        "SEQUENCE_LENGTH = 500 # número de secuencias de keras"
      ]
    },
    {
      "cell_type": "code",
      "execution_count": null,
      "metadata": {
        "id": "H3vey-qvU-iQ"
      },
      "outputs": [],
      "source": [
        "# Generamos la capa de embeddings\n",
        "\n",
        "def generate_embedding(word2vec_model, vocab_size, tokenizer):\n",
        "    embedding_matrix = np.zeros((vocab_size, W2V_SIZE))\n",
        "    for word, i in tokenizer.word_index.items():\n",
        "        if word in word2vec_model.wv:\n",
        "            embedding_matrix[i] = word2vec_model.wv[word]\n",
        "    return Embedding(\n",
        "        vocab_size,\n",
        "        W2V_SIZE,\n",
        "        weights=[embedding_matrix],\n",
        "        input_length=SEQUENCE_LENGTH, \n",
        "        trainable=True,\n",
        "    )\n"
      ]
    },
    {
      "cell_type": "code",
      "execution_count": null,
      "metadata": {
        "id": "xyyGw__gYlbu"
      },
      "outputs": [],
      "source": [
        "import numpy as np\n",
        "embedding_layer = generate_embedding(w2v_model_tr, vocabulary_size, tokenizer)"
      ]
    },
    {
      "cell_type": "code",
      "execution_count": null,
      "metadata": {
        "id": "XhwslU8BYvVi",
        "colab": {
          "base_uri": "https://localhost:8080/"
        },
        "outputId": "3a1174bd-39c6-425c-d987-bde0a4a691b0"
      },
      "outputs": [
        {
          "output_type": "stream",
          "name": "stderr",
          "text": [
            "WARNING:tensorflow:Layer lstm_1 will not use cuDNN kernels since it doesn't meet the criteria. It will use a generic GPU kernel as fallback when running on GPU.\n"
          ]
        }
      ],
      "source": [
        "model_custom = Sequential()\n",
        "#pasamos directamente la capa que hemos generado de embedding\n",
        "model_custom.add(embedding_layer)\n",
        "model_custom.add(LSTM(100, dropout=0.2, recurrent_dropout=0.2))\n",
        "model_custom.add(Dense(1, activation=\"sigmoid\"))"
      ]
    },
    {
      "cell_type": "code",
      "execution_count": null,
      "metadata": {
        "id": "QWpqnw7jY_FM",
        "colab": {
          "base_uri": "https://localhost:8080/"
        },
        "outputId": "bea38948-d531-49e9-ba3f-21171da60f05"
      },
      "outputs": [
        {
          "output_type": "stream",
          "name": "stderr",
          "text": [
            "/usr/local/lib/python3.9/dist-packages/keras/optimizers/optimizer_v2/adam.py:117: UserWarning: The `lr` argument is deprecated, use `learning_rate` instead.\n",
            "  super().__init__(name, **kwargs)\n"
          ]
        }
      ],
      "source": [
        "from keras.optimizers import Adam\n",
        "opt = Adam(lr=0.05, decay=0.05/ 20) #1e-3\n",
        "model_custom.compile(loss=\"binary_crossentropy\", optimizer=opt, metrics=[\"accuracy\"]) "
      ]
    },
    {
      "cell_type": "code",
      "execution_count": null,
      "metadata": {
        "id": "KnXrjJ38ZGT4",
        "colab": {
          "base_uri": "https://localhost:8080/"
        },
        "outputId": "92149381-3090-46d9-aac5-babc68ace279"
      },
      "outputs": [
        {
          "output_type": "stream",
          "name": "stdout",
          "text": [
            "Epoch 1/8\n",
            "35/35 [==============================] - 62s 2s/step - loss: 0.7182 - accuracy: 0.5007 - val_loss: 0.6937 - val_accuracy: 0.5217\n",
            "Epoch 2/8\n",
            "35/35 [==============================] - 58s 2s/step - loss: 0.6976 - accuracy: 0.5061 - val_loss: 0.7060 - val_accuracy: 0.5217\n",
            "Epoch 3/8\n",
            "35/35 [==============================] - 58s 2s/step - loss: 0.6986 - accuracy: 0.5048 - val_loss: 0.6958 - val_accuracy: 0.4774\n",
            "Epoch 4/8\n",
            "35/35 [==============================] - 58s 2s/step - loss: 0.6946 - accuracy: 0.5023 - val_loss: 0.6978 - val_accuracy: 0.4774\n",
            "Epoch 5/8\n",
            "35/35 [==============================] - 58s 2s/step - loss: 0.6934 - accuracy: 0.5048 - val_loss: 0.6927 - val_accuracy: 0.5217\n",
            "Epoch 6/8\n",
            "35/35 [==============================] - 58s 2s/step - loss: 0.6934 - accuracy: 0.5136 - val_loss: 0.6929 - val_accuracy: 0.5226\n",
            "Epoch 7/8\n",
            "35/35 [==============================] - 58s 2s/step - loss: 0.6952 - accuracy: 0.5009 - val_loss: 0.6939 - val_accuracy: 0.5217\n",
            "Epoch 8/8\n",
            "35/35 [==============================] - 58s 2s/step - loss: 0.6953 - accuracy: 0.4982 - val_loss: 0.6925 - val_accuracy: 0.5226\n"
          ]
        }
      ],
      "source": [
        "batch_size = 128\n",
        "num_epochs = 8 \n",
        "\n",
        "#X_train_words_valid, y_valid = X_train_wor[:batch_size], y_train[:batch_size]  # first batch_size samples\n",
        "#X_train_words2, y_train2 = X_train_words[batch_size:], y_train[batch_size:]  # rest for training\n",
        "\n",
        "H_custom = model_custom.fit(X_train_, y_train,\n",
        "          validation_split=0.2,\n",
        "          batch_size=batch_size, epochs=num_epochs)"
      ]
    },
    {
      "cell_type": "code",
      "source": [
        "#predicciones\n",
        "m_c_predict = (model_custom.predict(X_test_) > 0.5).astype(\"int32\")"
      ],
      "metadata": {
        "colab": {
          "base_uri": "https://localhost:8080/"
        },
        "id": "paBMz5QtfunM",
        "outputId": "8cdd9193-c9da-45d0-c9b5-a35646fa37f8"
      },
      "execution_count": null,
      "outputs": [
        {
          "output_type": "stream",
          "name": "stdout",
          "text": [
            "58/58 [==============================] - 8s 127ms/step\n"
          ]
        }
      ]
    },
    {
      "cell_type": "code",
      "source": [
        "#mostramos algunas métricas \n",
        "print('Confusion matrix:\\n{}'.format(confusion_matrix(y_test, m_c_predict)))\n",
        "print('\\nClassification report:\\n{}'.format(classification_report(y_test, m_c_predict)))\n",
        "print('Accuracy score: {:.4f}'.format(accuracy_score(y_test, m_c_predict)))"
      ],
      "metadata": {
        "colab": {
          "base_uri": "https://localhost:8080/"
        },
        "id": "zWhpFIskf8Fr",
        "outputId": "5015bfa6-cb3a-4240-951d-c2a9b35eef27"
      },
      "execution_count": null,
      "outputs": [
        {
          "output_type": "stream",
          "name": "stdout",
          "text": [
            "Confusion matrix:\n",
            "[[  9 831]\n",
            " [ 12 987]]\n",
            "\n",
            "Classification report:\n",
            "              precision    recall  f1-score   support\n",
            "\n",
            "           0       0.43      0.01      0.02       840\n",
            "           1       0.54      0.99      0.70       999\n",
            "\n",
            "    accuracy                           0.54      1839\n",
            "   macro avg       0.49      0.50      0.36      1839\n",
            "weighted avg       0.49      0.54      0.39      1839\n",
            "\n",
            "Accuracy score: 0.5416\n"
          ]
        }
      ]
    },
    {
      "cell_type": "code",
      "source": [
        "H_loss = H_custom.history['loss']\n",
        "H_val_loss = H_custom.history['val_loss']"
      ],
      "metadata": {
        "id": "2nRi0BvMnVu3"
      },
      "execution_count": null,
      "outputs": []
    },
    {
      "cell_type": "code",
      "source": [
        "#representamos la gráfica de perdidas\n",
        "import seaborn as sns\n",
        "sns.set(style=\"darkgrid\")\n",
        "plt.figure(figsize=(8, 6))\n",
        "plt.plot(H_loss, label='train_loss')\n",
        "plt.plot(H_val_loss, label='val_loss')\n",
        "plt.title('model_custom loss', fontsize=18)\n",
        "plt.ylabel('Loss', fontsize=12)\n",
        "plt.xlabel('Epoch', fontsize=12)\n",
        "plt.xticks(fontsize=10)\n",
        "plt.yticks(fontsize=10)\n",
        "plt.legend(loc='upper right', fontsize=10)\n",
        "sns.despine()\n",
        "plt.show()"
      ],
      "metadata": {
        "colab": {
          "base_uri": "https://localhost:8080/",
          "height": 414
        },
        "outputId": "5c15e364-f7d4-4700-dfb8-a8716d8b750f",
        "id": "IwMssKnnRNBq"
      },
      "execution_count": null,
      "outputs": [
        {
          "output_type": "display_data",
          "data": {
            "text/plain": [
              "<Figure size 576x432 with 1 Axes>"
            ],
            "image/png": "[encoded data removed]"
          },
          "metadata": {}
        }
      ]
    },
    {
      "cell_type": "code",
      "source": [
        "#representamos la gráfica de precisión\n",
        "import seaborn as sns\n",
        "sns.set(style=\"darkgrid\")\n",
        "plt.figure(figsize=(8, 6))\n",
        "plt.plot(H_custom.history['accuracy'], label='train')\n",
        "plt.plot(H_custom.history['val_accuracy'], label='validation')\n",
        "plt.title('model_custom accuracy', fontsize=18)\n",
        "plt.ylabel('Loss', fontsize=12)\n",
        "plt.xlabel('Epoch', fontsize=12)\n",
        "plt.xticks(fontsize=10)\n",
        "plt.yticks(fontsize=10)\n",
        "plt.legend(loc='upper right', fontsize=10)\n",
        "sns.despine()\n",
        "plt.show()"
      ],
      "metadata": {
        "colab": {
          "base_uri": "https://localhost:8080/",
          "height": 414
        },
        "id": "UE10s42VN409",
        "outputId": "b9a72af8-5bb2-477f-c10e-ffe30a8c5465"
      },
      "execution_count": null,
      "outputs": [
        {
          "output_type": "display_data",
          "data": {
            "text/plain": [
              "<Figure size 576x432 with 1 Axes>"
            ],
            "image/png": "[encoded data removed]"
          },
          "metadata": {}
        }
      ]
    },
    {
      "cell_type": "code",
      "source": [
        "#guardamos los datos en nuestro drive\n",
        "np.save('H_loss.npy', H_loss)\n",
        "np.save('H_val_loss.npy', H_val_loss)\n",
        "np.save('m_c_predict.npy', m_c_predict)"
      ],
      "metadata": {
        "id": "CDw8j2Q5VdHM"
      },
      "execution_count": null,
      "outputs": []
    },
    {
      "cell_type": "code",
      "source": [
        "#guardamos el modelo en nuestro drive de colab\n",
        "with open('model_custom.pkl', 'wb') as f:\n",
        "    pickle.dump(model_custom, f)"
      ],
      "metadata": {
        "colab": {
          "base_uri": "https://localhost:8080/"
        },
        "id": "KOeYBRAfVdHN",
        "outputId": "65712d5a-5ead-488f-ae9e-b6a67a2f438f"
      },
      "execution_count": null,
      "outputs": [
        {
          "output_type": "stream",
          "name": "stdout",
          "text": [
            "Keras weights file (<HDF5 file \"variables.h5\" (mode r+)>) saving:\n",
            "...layers\n",
            "......dense\n",
            ".........vars\n",
            "............0\n",
            "............1\n",
            "......embedding\n",
            ".........vars\n",
            "............0\n",
            "......lstm\n",
            ".........cell\n",
            "............vars\n",
            "...............0\n",
            "...............1\n",
            "...............2\n",
            ".........vars\n",
            "...metrics\n",
            "......mean\n",
            ".........vars\n",
            "............0\n",
            "............1\n",
            "......mean_metric_wrapper\n",
            ".........vars\n",
            "............0\n",
            "............1\n",
            "...vars\n",
            "Keras model archive saving:\n",
            "File Name                                             Modified             Size\n",
            "metadata.json                                  2023-03-12 18:45:56           64\n",
            "config.json                                    2023-03-12 18:45:56         2473\n",
            "variables.h5                                   2023-03-12 18:45:56    167080320\n"
          ]
        }
      ]
    },
    {
      "cell_type": "code",
      "execution_count": null,
      "metadata": {
        "id": "wnc5_YL_VdHN"
      },
      "outputs": [],
      "source": [
        "# movemos nuestro modelo al Google Drive\n",
        "!cp model_custom.pkl /content/drive/MyDrive/NLP/model_custom.pkl \n",
        "!cp m_c_predict.npy /content/drive/MyDrive/NLP/m_c_predict.npy\n",
        "!cp H_loss.npy /content/drive/MyDrive/NLP/H_loss.npy\n",
        "!cp H_val_loss.npy /content/drive/MyDrive/NLP/H_val_loss.npy"
      ]
    },
    {
      "cell_type": "code",
      "source": [
        "#Comprobamos\n",
        "!ls -lah model_custom.pkl  m_c_predict H_loss.npy H_val_loss.npy"
      ],
      "metadata": {
        "colab": {
          "base_uri": "https://localhost:8080/"
        },
        "outputId": "49d8431e-a2c0-495e-e658-c887e52b31ff",
        "id": "cyWOKYKHVdHN"
      },
      "execution_count": null,
      "outputs": [
        {
          "output_type": "stream",
          "name": "stdout",
          "text": [
            "ls: cannot access 'm_c_predict': No such file or directory\n",
            "-rw-r--r-- 1 root root  192 Mar 12 18:45 H_loss.npy\n",
            "-rw-r--r-- 1 root root  192 Mar 12 18:45 H_val_loss.npy\n",
            "-rw-r--r-- 1 root root 160M Mar 12 18:45 model_custom.pkl\n"
          ]
        }
      ]
    }
  ]
}