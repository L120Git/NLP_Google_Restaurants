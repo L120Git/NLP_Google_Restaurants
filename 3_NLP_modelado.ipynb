{
  "nbformat": 4,
  "nbformat_minor": 0,
  "metadata": {
    "colab": {
      "provenance": [],
      "authorship_tag": "ABX9TyPLeoJpScyhP8IF5sjr4cI+",
      "include_colab_link": true
    },
    "kernelspec": {
      "name": "python3",
      "display_name": "Python 3"
    },
    "language_info": {
      "name": "python"
    }
  },
  "cells": [
    {
      "cell_type": "markdown",
      "metadata": {
        "id": "view-in-github",
        "colab_type": "text"
      },
      "source": [
        "<a href=\"https://colab.research.google.com/github/L120Git/NLP_Google_Restaurants/blob/main/3_NLP_modelado.ipynb\" target=\"_parent\"><img src=\"https://colab.research.google.com/assets/colab-badge.svg\" alt=\"Open In Colab\"/></a>"
      ]
    },
    {
      "cell_type": "markdown",
      "source": [
        "##0.Librerías necesarias"
      ],
      "metadata": {
        "id": "xS1T-vQSdLoC"
      }
    },
    {
      "cell_type": "code",
      "source": [
        "#!pip install rarfile\n",
        "#!pip install unzip\n",
        "!pip install stop-words\n",
        "!pip install num2words\n"
      ],
      "metadata": {
        "colab": {
          "base_uri": "https://localhost:8080/"
        },
        "id": "Ca-qFp4k0mzh",
        "outputId": "ddd0fac8-1f0c-4fda-af5e-83908606d03b"
      },
      "execution_count": 5,
      "outputs": [
        {
          "output_type": "stream",
          "name": "stdout",
          "text": [
            "Looking in indexes: https://pypi.org/simple, https://us-python.pkg.dev/colab-wheels/public/simple/\n",
            "Requirement already satisfied: stop-words in /usr/local/lib/python3.9/dist-packages (2018.7.23)\n",
            "Looking in indexes: https://pypi.org/simple, https://us-python.pkg.dev/colab-wheels/public/simple/\n",
            "Requirement already satisfied: num2words in /usr/local/lib/python3.9/dist-packages (0.5.12)\n",
            "Requirement already satisfied: docopt>=0.6.2 in /usr/local/lib/python3.9/dist-packages (from num2words) (0.6.2)\n"
          ]
        }
      ]
    },
    {
      "cell_type": "code",
      "source": [
        "!pip install wordcloud"
      ],
      "metadata": {
        "colab": {
          "base_uri": "https://localhost:8080/"
        },
        "id": "ts7qrXDUf31r",
        "outputId": "6e19e662-6baa-49b4-d02e-51c37299827c"
      },
      "execution_count": 6,
      "outputs": [
        {
          "output_type": "stream",
          "name": "stdout",
          "text": [
            "Looking in indexes: https://pypi.org/simple, https://us-python.pkg.dev/colab-wheels/public/simple/\n",
            "Requirement already satisfied: wordcloud in /usr/local/lib/python3.9/dist-packages (1.8.2.2)\n",
            "Requirement already satisfied: pillow in /usr/local/lib/python3.9/dist-packages (from wordcloud) (8.4.0)\n",
            "Requirement already satisfied: numpy>=1.6.1 in /usr/local/lib/python3.9/dist-packages (from wordcloud) (1.22.4)\n",
            "Requirement already satisfied: matplotlib in /usr/local/lib/python3.9/dist-packages (from wordcloud) (3.5.3)\n",
            "Requirement already satisfied: fonttools>=4.22.0 in /usr/local/lib/python3.9/dist-packages (from matplotlib->wordcloud) (4.39.0)\n",
            "Requirement already satisfied: python-dateutil>=2.7 in /usr/local/lib/python3.9/dist-packages (from matplotlib->wordcloud) (2.8.2)\n",
            "Requirement already satisfied: cycler>=0.10 in /usr/local/lib/python3.9/dist-packages (from matplotlib->wordcloud) (0.11.0)\n",
            "Requirement already satisfied: kiwisolver>=1.0.1 in /usr/local/lib/python3.9/dist-packages (from matplotlib->wordcloud) (1.4.4)\n",
            "Requirement already satisfied: packaging>=20.0 in /usr/local/lib/python3.9/dist-packages (from matplotlib->wordcloud) (23.0)\n",
            "Requirement already satisfied: pyparsing>=2.2.1 in /usr/local/lib/python3.9/dist-packages (from matplotlib->wordcloud) (3.0.9)\n",
            "Requirement already satisfied: six>=1.5 in /usr/local/lib/python3.9/dist-packages (from python-dateutil>=2.7->matplotlib->wordcloud) (1.15.0)\n"
          ]
        }
      ]
    },
    {
      "cell_type": "code",
      "execution_count": 89,
      "metadata": {
        "id": "4z0nTzWSbUTE",
        "colab": {
          "base_uri": "https://localhost:8080/"
        },
        "outputId": "85b22ed1-ce1e-42c9-ec69-3e4b3f46329b"
      },
      "outputs": [
        {
          "output_type": "stream",
          "name": "stderr",
          "text": [
            "[nltk_data] Downloading package wordnet to /root/nltk_data...\n",
            "[nltk_data]   Package wordnet is already up-to-date!\n",
            "[nltk_data] Downloading package stopwords to /root/nltk_data...\n",
            "[nltk_data]   Package stopwords is already up-to-date!\n",
            "[nltk_data] Downloading package punkt to /root/nltk_data...\n",
            "[nltk_data]   Package punkt is already up-to-date!\n",
            "[nltk_data] Downloading package omw-1.4 to /root/nltk_data...\n",
            "[nltk_data]   Package omw-1.4 is already up-to-date!\n"
          ]
        }
      ],
      "source": [
        "#Librerias necesarias\n",
        "import numpy as np\n",
        "import pandas as pd\n",
        "from google.colab import drive\n",
        "import random\n",
        "#import rarfile # para descomprimir archivos\n",
        "import json\n",
        "#import csv \n",
        "#para limpiar los datos\n",
        "import nltk\n",
        "nltk.download('wordnet')\n",
        "from nltk.tokenize import word_tokenize\n",
        "from nltk import RegexpTokenizer\n",
        "from nltk.stem import WordNetLemmatizer \n",
        "nltk.download('stopwords')\n",
        "from nltk.corpus import stopwords\n",
        "nltk.download('punkt')\n",
        "from nltk.tokenize import sent_tokenize\n",
        "nltk.download('omw-1.4')\n",
        "import string\n",
        "import unicodedata\n",
        "from num2words import num2words\n",
        "#para reducir la dimensión\n",
        "from sklearn.manifold import TSNE\n",
        "#para representar\n",
        "import matplotlib.pyplot as plt\n",
        "\n",
        "#análisis exloratorio\n",
        "from collections import Counter\n",
        "from nltk import ngrams\n",
        "from nltk.probability import FreqDist\n",
        "from wordcloud import WordCloud\n",
        "\n",
        "#preprocesado\n",
        "from stop_words import get_stop_words\n",
        "import unicodedata\n",
        "import re\n",
        "from sklearn.utils import shuffle\n",
        "\n",
        "#modelado\n",
        "from sklearn.feature_extraction.text import CountVectorizer, TfidfVectorizer \n",
        "from sklearn.feature_selection import chi2\n",
        "from sklearn.pipeline import Pipeline\n",
        "from sklearn.linear_model import LogisticRegression\n",
        "from sklearn.metrics import confusion_matrix\n",
        "import os\n",
        "from sklearn.ensemble import GradientBoostingClassifier\n",
        "from sklearn.model_selection import GridSearchCV\n",
        "import tensorflow\n",
        "from tensorflow import keras\n",
        "from keras.utils import pad_sequences\n",
        "from keras.preprocessing.text import Tokenizer\n",
        "from keras.models import Sequential\n",
        "from sklearn.svm import SVC\n",
        "from keras.layers import Embedding, LSTM, Dense, Dropout, GRUV2, SimpleRNN\n",
        "#reporte\n",
        "from sklearn.metrics import classification_report, accuracy_score, roc_curve, precision_recall_curve\n"
      ]
    },
    {
      "cell_type": "markdown",
      "source": [
        "##1. Carga de datos"
      ],
      "metadata": {
        "id": "ldJRNKDHdFWm"
      }
    },
    {
      "cell_type": "code",
      "source": [
        "# Montamos GDrive\n",
        "from google.colab import drive\n",
        "drive.mount('/content/drive')"
      ],
      "metadata": {
        "colab": {
          "base_uri": "https://localhost:8080/"
        },
        "id": "ZMR7XcldYvEs",
        "outputId": "5f73ee64-b731-445b-cb59-b4a35e2ba0a1"
      },
      "execution_count": 8,
      "outputs": [
        {
          "output_type": "stream",
          "name": "stdout",
          "text": [
            "Mounted at /content/drive\n"
          ]
        }
      ]
    },
    {
      "cell_type": "code",
      "source": [
        "#cargamos los datos necesarios desde nuestro google drive\n",
        "path = '/content/drive/MyDrive/NLP/'\n",
        "\n",
        "train_clean = pd.read_csv(f'{path}train_clean.csv')\n",
        "test_clean= pd.read_csv(f'{path}test_clean.csv')"
      ],
      "metadata": {
        "id": "2hC4pao7x_0s"
      },
      "execution_count": 9,
      "outputs": []
    },
    {
      "cell_type": "code",
      "source": [
        "train_clean"
      ],
      "metadata": {
        "colab": {
          "base_uri": "https://localhost:8080/",
          "height": 423
        },
        "id": "OCf5Zhqj1T9c",
        "outputId": "6f55ceff-2c57-4ea4-fc99-5f2198b3b98a"
      },
      "execution_count": 10,
      "outputs": [
        {
          "output_type": "execute_result",
          "data": {
            "text/plain": [
              "                                           review_clean  sentiment_label\n",
              "0     want great slice new york pizza come burke str...                0\n",
              "1     way much breading shrimp also really loud next...                1\n",
              "2        wa first time eaten peruvian food wa flavorful                0\n",
              "3     ihop ha better food go south time get ham chee...                1\n",
              "4     bowling giant jenga corn hole ping pong tried ...                1\n",
              "...                                                 ...              ...\n",
              "4760  opinion frosted hawaiian tasted like blend ice...                1\n",
              "4761               chicken sandwich double berger combo                1\n",
              "4762  came try something new breakfast disappointed way                0\n",
              "4763  daughter blackened fish sandwich wife shrimp d...                1\n",
              "4764       best pizza ever get margarita topped ricotta                0\n",
              "\n",
              "[4765 rows x 2 columns]"
            ],
            "text/html": [
              "\n",
              "  <div id=\"df-ae64120e-0806-48d5-abc7-d7a65a4b6987\">\n",
              "    <div class=\"colab-df-container\">\n",
              "      <div>\n",
              "<style scoped>\n",
              "    .dataframe tbody tr th:only-of-type {\n",
              "        vertical-align: middle;\n",
              "    }\n",
              "\n",
              "    .dataframe tbody tr th {\n",
              "        vertical-align: top;\n",
              "    }\n",
              "\n",
              "    .dataframe thead th {\n",
              "        text-align: right;\n",
              "    }\n",
              "</style>\n",
              "<table border=\"1\" class=\"dataframe\">\n",
              "  <thead>\n",
              "    <tr style=\"text-align: right;\">\n",
              "      <th></th>\n",
              "      <th>review_clean</th>\n",
              "      <th>sentiment_label</th>\n",
              "    </tr>\n",
              "  </thead>\n",
              "  <tbody>\n",
              "    <tr>\n",
              "      <th>0</th>\n",
              "      <td>want great slice new york pizza come burke str...</td>\n",
              "      <td>0</td>\n",
              "    </tr>\n",
              "    <tr>\n",
              "      <th>1</th>\n",
              "      <td>way much breading shrimp also really loud next...</td>\n",
              "      <td>1</td>\n",
              "    </tr>\n",
              "    <tr>\n",
              "      <th>2</th>\n",
              "      <td>wa first time eaten peruvian food wa flavorful</td>\n",
              "      <td>0</td>\n",
              "    </tr>\n",
              "    <tr>\n",
              "      <th>3</th>\n",
              "      <td>ihop ha better food go south time get ham chee...</td>\n",
              "      <td>1</td>\n",
              "    </tr>\n",
              "    <tr>\n",
              "      <th>4</th>\n",
              "      <td>bowling giant jenga corn hole ping pong tried ...</td>\n",
              "      <td>1</td>\n",
              "    </tr>\n",
              "    <tr>\n",
              "      <th>...</th>\n",
              "      <td>...</td>\n",
              "      <td>...</td>\n",
              "    </tr>\n",
              "    <tr>\n",
              "      <th>4760</th>\n",
              "      <td>opinion frosted hawaiian tasted like blend ice...</td>\n",
              "      <td>1</td>\n",
              "    </tr>\n",
              "    <tr>\n",
              "      <th>4761</th>\n",
              "      <td>chicken sandwich double berger combo</td>\n",
              "      <td>1</td>\n",
              "    </tr>\n",
              "    <tr>\n",
              "      <th>4762</th>\n",
              "      <td>came try something new breakfast disappointed way</td>\n",
              "      <td>0</td>\n",
              "    </tr>\n",
              "    <tr>\n",
              "      <th>4763</th>\n",
              "      <td>daughter blackened fish sandwich wife shrimp d...</td>\n",
              "      <td>1</td>\n",
              "    </tr>\n",
              "    <tr>\n",
              "      <th>4764</th>\n",
              "      <td>best pizza ever get margarita topped ricotta</td>\n",
              "      <td>0</td>\n",
              "    </tr>\n",
              "  </tbody>\n",
              "</table>\n",
              "<p>4765 rows × 2 columns</p>\n",
              "</div>\n",
              "      <button class=\"colab-df-convert\" onclick=\"convertToInteractive('df-ae64120e-0806-48d5-abc7-d7a65a4b6987')\"\n",
              "              title=\"Convert this dataframe to an interactive table.\"\n",
              "              style=\"display:none;\">\n",
              "        \n",
              "  <svg xmlns=\"http://www.w3.org/2000/svg\" height=\"24px\"viewBox=\"0 0 24 24\"\n",
              "       width=\"24px\">\n",
              "    <path d=\"M0 0h24v24H0V0z\" fill=\"none\"/>\n",
              "    <path d=\"M18.56 5.44l.94 2.06.94-2.06 2.06-.94-2.06-.94-.94-2.06-.94 2.06-2.06.94zm-11 1L8.5 8.5l.94-2.06 2.06-.94-2.06-.94L8.5 2.5l-.94 2.06-2.06.94zm10 10l.94 2.06.94-2.06 2.06-.94-2.06-.94-.94-2.06-.94 2.06-2.06.94z\"/><path d=\"M17.41 7.96l-1.37-1.37c-.4-.4-.92-.59-1.43-.59-.52 0-1.04.2-1.43.59L10.3 9.45l-7.72 7.72c-.78.78-.78 2.05 0 2.83L4 21.41c.39.39.9.59 1.41.59.51 0 1.02-.2 1.41-.59l7.78-7.78 2.81-2.81c.8-.78.8-2.07 0-2.86zM5.41 20L4 18.59l7.72-7.72 1.47 1.35L5.41 20z\"/>\n",
              "  </svg>\n",
              "      </button>\n",
              "      \n",
              "  <style>\n",
              "    .colab-df-container {\n",
              "      display:flex;\n",
              "      flex-wrap:wrap;\n",
              "      gap: 12px;\n",
              "    }\n",
              "\n",
              "    .colab-df-convert {\n",
              "      background-color: #E8F0FE;\n",
              "      border: none;\n",
              "      border-radius: 50%;\n",
              "      cursor: pointer;\n",
              "      display: none;\n",
              "      fill: #1967D2;\n",
              "      height: 32px;\n",
              "      padding: 0 0 0 0;\n",
              "      width: 32px;\n",
              "    }\n",
              "\n",
              "    .colab-df-convert:hover {\n",
              "      background-color: #E2EBFA;\n",
              "      box-shadow: 0px 1px 2px rgba(60, 64, 67, 0.3), 0px 1px 3px 1px rgba(60, 64, 67, 0.15);\n",
              "      fill: #174EA6;\n",
              "    }\n",
              "\n",
              "    [theme=dark] .colab-df-convert {\n",
              "      background-color: #3B4455;\n",
              "      fill: #D2E3FC;\n",
              "    }\n",
              "\n",
              "    [theme=dark] .colab-df-convert:hover {\n",
              "      background-color: #434B5C;\n",
              "      box-shadow: 0px 1px 3px 1px rgba(0, 0, 0, 0.15);\n",
              "      filter: drop-shadow(0px 1px 2px rgba(0, 0, 0, 0.3));\n",
              "      fill: #FFFFFF;\n",
              "    }\n",
              "  </style>\n",
              "\n",
              "      <script>\n",
              "        const buttonEl =\n",
              "          document.querySelector('#df-ae64120e-0806-48d5-abc7-d7a65a4b6987 button.colab-df-convert');\n",
              "        buttonEl.style.display =\n",
              "          google.colab.kernel.accessAllowed ? 'block' : 'none';\n",
              "\n",
              "        async function convertToInteractive(key) {\n",
              "          const element = document.querySelector('#df-ae64120e-0806-48d5-abc7-d7a65a4b6987');\n",
              "          const dataTable =\n",
              "            await google.colab.kernel.invokeFunction('convertToInteractive',\n",
              "                                                     [key], {});\n",
              "          if (!dataTable) return;\n",
              "\n",
              "          const docLinkHtml = 'Like what you see? Visit the ' +\n",
              "            '<a target=\"_blank\" href=https://colab.research.google.com/notebooks/data_table.ipynb>data table notebook</a>'\n",
              "            + ' to learn more about interactive tables.';\n",
              "          element.innerHTML = '';\n",
              "          dataTable['output_type'] = 'display_data';\n",
              "          await google.colab.output.renderOutput(dataTable, element);\n",
              "          const docLink = document.createElement('div');\n",
              "          docLink.innerHTML = docLinkHtml;\n",
              "          element.appendChild(docLink);\n",
              "        }\n",
              "      </script>\n",
              "    </div>\n",
              "  </div>\n",
              "  "
            ]
          },
          "metadata": {},
          "execution_count": 10
        }
      ]
    },
    {
      "cell_type": "code",
      "source": [
        "test_clean"
      ],
      "metadata": {
        "colab": {
          "base_uri": "https://localhost:8080/",
          "height": 423
        },
        "id": "viRewjZN1T_3",
        "outputId": "bb5ce86c-63c7-48c4-a0d6-be82f0efdacb"
      },
      "execution_count": 11,
      "outputs": [
        {
          "output_type": "execute_result",
          "data": {
            "text/plain": [
              "                                           review_clean  sentiment_label\n",
              "0     wife really enjoy pasta fresh salad updated re...                1\n",
              "1       pork cracklins boudin ball sweet potato beignet                0\n",
              "2                 salad appetizer main course came time                1\n",
              "3          burger great fry good like onion ring better                1\n",
              "4     always bomb place never disappoints best fast ...                0\n",
              "...                                                 ...              ...\n",
              "1584  burger though wa average something could get n...                1\n",
              "1585  good flavor personally prefer thicker noodle a...                1\n",
              "1586         worth one time stop youre fan irish coffee                1\n",
              "1587  wasnt fond root beer doughnut sweet dough seem...                1\n",
              "1588  vietnam restaurant 11th spring street blow pla...                1\n",
              "\n",
              "[1589 rows x 2 columns]"
            ],
            "text/html": [
              "\n",
              "  <div id=\"df-94b77a30-b213-4bf9-8b35-cc170f8267d2\">\n",
              "    <div class=\"colab-df-container\">\n",
              "      <div>\n",
              "<style scoped>\n",
              "    .dataframe tbody tr th:only-of-type {\n",
              "        vertical-align: middle;\n",
              "    }\n",
              "\n",
              "    .dataframe tbody tr th {\n",
              "        vertical-align: top;\n",
              "    }\n",
              "\n",
              "    .dataframe thead th {\n",
              "        text-align: right;\n",
              "    }\n",
              "</style>\n",
              "<table border=\"1\" class=\"dataframe\">\n",
              "  <thead>\n",
              "    <tr style=\"text-align: right;\">\n",
              "      <th></th>\n",
              "      <th>review_clean</th>\n",
              "      <th>sentiment_label</th>\n",
              "    </tr>\n",
              "  </thead>\n",
              "  <tbody>\n",
              "    <tr>\n",
              "      <th>0</th>\n",
              "      <td>wife really enjoy pasta fresh salad updated re...</td>\n",
              "      <td>1</td>\n",
              "    </tr>\n",
              "    <tr>\n",
              "      <th>1</th>\n",
              "      <td>pork cracklins boudin ball sweet potato beignet</td>\n",
              "      <td>0</td>\n",
              "    </tr>\n",
              "    <tr>\n",
              "      <th>2</th>\n",
              "      <td>salad appetizer main course came time</td>\n",
              "      <td>1</td>\n",
              "    </tr>\n",
              "    <tr>\n",
              "      <th>3</th>\n",
              "      <td>burger great fry good like onion ring better</td>\n",
              "      <td>1</td>\n",
              "    </tr>\n",
              "    <tr>\n",
              "      <th>4</th>\n",
              "      <td>always bomb place never disappoints best fast ...</td>\n",
              "      <td>0</td>\n",
              "    </tr>\n",
              "    <tr>\n",
              "      <th>...</th>\n",
              "      <td>...</td>\n",
              "      <td>...</td>\n",
              "    </tr>\n",
              "    <tr>\n",
              "      <th>1584</th>\n",
              "      <td>burger though wa average something could get n...</td>\n",
              "      <td>1</td>\n",
              "    </tr>\n",
              "    <tr>\n",
              "      <th>1585</th>\n",
              "      <td>good flavor personally prefer thicker noodle a...</td>\n",
              "      <td>1</td>\n",
              "    </tr>\n",
              "    <tr>\n",
              "      <th>1586</th>\n",
              "      <td>worth one time stop youre fan irish coffee</td>\n",
              "      <td>1</td>\n",
              "    </tr>\n",
              "    <tr>\n",
              "      <th>1587</th>\n",
              "      <td>wasnt fond root beer doughnut sweet dough seem...</td>\n",
              "      <td>1</td>\n",
              "    </tr>\n",
              "    <tr>\n",
              "      <th>1588</th>\n",
              "      <td>vietnam restaurant 11th spring street blow pla...</td>\n",
              "      <td>1</td>\n",
              "    </tr>\n",
              "  </tbody>\n",
              "</table>\n",
              "<p>1589 rows × 2 columns</p>\n",
              "</div>\n",
              "      <button class=\"colab-df-convert\" onclick=\"convertToInteractive('df-94b77a30-b213-4bf9-8b35-cc170f8267d2')\"\n",
              "              title=\"Convert this dataframe to an interactive table.\"\n",
              "              style=\"display:none;\">\n",
              "        \n",
              "  <svg xmlns=\"http://www.w3.org/2000/svg\" height=\"24px\"viewBox=\"0 0 24 24\"\n",
              "       width=\"24px\">\n",
              "    <path d=\"M0 0h24v24H0V0z\" fill=\"none\"/>\n",
              "    <path d=\"M18.56 5.44l.94 2.06.94-2.06 2.06-.94-2.06-.94-.94-2.06-.94 2.06-2.06.94zm-11 1L8.5 8.5l.94-2.06 2.06-.94-2.06-.94L8.5 2.5l-.94 2.06-2.06.94zm10 10l.94 2.06.94-2.06 2.06-.94-2.06-.94-.94-2.06-.94 2.06-2.06.94z\"/><path d=\"M17.41 7.96l-1.37-1.37c-.4-.4-.92-.59-1.43-.59-.52 0-1.04.2-1.43.59L10.3 9.45l-7.72 7.72c-.78.78-.78 2.05 0 2.83L4 21.41c.39.39.9.59 1.41.59.51 0 1.02-.2 1.41-.59l7.78-7.78 2.81-2.81c.8-.78.8-2.07 0-2.86zM5.41 20L4 18.59l7.72-7.72 1.47 1.35L5.41 20z\"/>\n",
              "  </svg>\n",
              "      </button>\n",
              "      \n",
              "  <style>\n",
              "    .colab-df-container {\n",
              "      display:flex;\n",
              "      flex-wrap:wrap;\n",
              "      gap: 12px;\n",
              "    }\n",
              "\n",
              "    .colab-df-convert {\n",
              "      background-color: #E8F0FE;\n",
              "      border: none;\n",
              "      border-radius: 50%;\n",
              "      cursor: pointer;\n",
              "      display: none;\n",
              "      fill: #1967D2;\n",
              "      height: 32px;\n",
              "      padding: 0 0 0 0;\n",
              "      width: 32px;\n",
              "    }\n",
              "\n",
              "    .colab-df-convert:hover {\n",
              "      background-color: #E2EBFA;\n",
              "      box-shadow: 0px 1px 2px rgba(60, 64, 67, 0.3), 0px 1px 3px 1px rgba(60, 64, 67, 0.15);\n",
              "      fill: #174EA6;\n",
              "    }\n",
              "\n",
              "    [theme=dark] .colab-df-convert {\n",
              "      background-color: #3B4455;\n",
              "      fill: #D2E3FC;\n",
              "    }\n",
              "\n",
              "    [theme=dark] .colab-df-convert:hover {\n",
              "      background-color: #434B5C;\n",
              "      box-shadow: 0px 1px 3px 1px rgba(0, 0, 0, 0.15);\n",
              "      filter: drop-shadow(0px 1px 2px rgba(0, 0, 0, 0.3));\n",
              "      fill: #FFFFFF;\n",
              "    }\n",
              "  </style>\n",
              "\n",
              "      <script>\n",
              "        const buttonEl =\n",
              "          document.querySelector('#df-94b77a30-b213-4bf9-8b35-cc170f8267d2 button.colab-df-convert');\n",
              "        buttonEl.style.display =\n",
              "          google.colab.kernel.accessAllowed ? 'block' : 'none';\n",
              "\n",
              "        async function convertToInteractive(key) {\n",
              "          const element = document.querySelector('#df-94b77a30-b213-4bf9-8b35-cc170f8267d2');\n",
              "          const dataTable =\n",
              "            await google.colab.kernel.invokeFunction('convertToInteractive',\n",
              "                                                     [key], {});\n",
              "          if (!dataTable) return;\n",
              "\n",
              "          const docLinkHtml = 'Like what you see? Visit the ' +\n",
              "            '<a target=\"_blank\" href=https://colab.research.google.com/notebooks/data_table.ipynb>data table notebook</a>'\n",
              "            + ' to learn more about interactive tables.';\n",
              "          element.innerHTML = '';\n",
              "          dataTable['output_type'] = 'display_data';\n",
              "          await google.colab.output.renderOutput(dataTable, element);\n",
              "          const docLink = document.createElement('div');\n",
              "          docLink.innerHTML = docLinkHtml;\n",
              "          element.appendChild(docLink);\n",
              "        }\n",
              "      </script>\n",
              "    </div>\n",
              "  </div>\n",
              "  "
            ]
          },
          "metadata": {},
          "execution_count": 11
        }
      ]
    },
    {
      "cell_type": "code",
      "source": [],
      "metadata": {
        "id": "Tyarruz48HYx"
      },
      "execution_count": 11,
      "outputs": []
    },
    {
      "cell_type": "markdown",
      "source": [
        "##2. Split de los datos"
      ],
      "metadata": {
        "id": "tUVfa3vx2MMx"
      }
    },
    {
      "cell_type": "code",
      "source": [
        "#dividimos con las columnas 'processedReview' y las etiquetas 'sentiment_label'\n",
        "\n",
        "#split conjunto de train\n",
        "X_train = train_clean['review_clean']\n",
        "y_train = train_clean['sentiment_label']\n",
        "\n",
        "#split conjunto de test\n",
        "X_test = test_clean['review_clean']\n",
        "y_test = test_clean['sentiment_label']\n"
      ],
      "metadata": {
        "id": "DhrUMfLGFliA"
      },
      "execution_count": 12,
      "outputs": []
    },
    {
      "cell_type": "code",
      "source": [
        "X_train.iloc[:10]"
      ],
      "metadata": {
        "id": "eoxqnx0_FlkW",
        "colab": {
          "base_uri": "https://localhost:8080/"
        },
        "outputId": "d2eb5485-2cf6-4499-a456-3b4b192232cf"
      },
      "execution_count": 13,
      "outputs": [
        {
          "output_type": "execute_result",
          "data": {
            "text/plain": [
              "0    want great slice new york pizza come burke str...\n",
              "1    way much breading shrimp also really loud next...\n",
              "2       wa first time eaten peruvian food wa flavorful\n",
              "3    ihop ha better food go south time get ham chee...\n",
              "4    bowling giant jenga corn hole ping pong tried ...\n",
              "5    excellent eel shashime chewy octapus leathery ...\n",
              "6    passing chicago really nice evening sat outsid...\n",
              "7    go old fashioned vanilla birthday cake homer h...\n",
              "8                 2 margarita combo plate salad 70 tip\n",
              "9                       well back try rice noodle dish\n",
              "Name: review_clean, dtype: object"
            ]
          },
          "metadata": {},
          "execution_count": 13
        }
      ]
    },
    {
      "cell_type": "code",
      "source": [
        "y_train.iloc[:10]"
      ],
      "metadata": {
        "id": "RlOHW790Flmo",
        "colab": {
          "base_uri": "https://localhost:8080/"
        },
        "outputId": "20c93d6e-bd0f-42de-fbf6-5771370a527d"
      },
      "execution_count": 14,
      "outputs": [
        {
          "output_type": "execute_result",
          "data": {
            "text/plain": [
              "0    0\n",
              "1    1\n",
              "2    0\n",
              "3    1\n",
              "4    1\n",
              "5    1\n",
              "6    0\n",
              "7    0\n",
              "8    0\n",
              "9    1\n",
              "Name: sentiment_label, dtype: int64"
            ]
          },
          "metadata": {},
          "execution_count": 14
        }
      ]
    },
    {
      "cell_type": "markdown",
      "source": [
        "##3. Extracción de características"
      ],
      "metadata": {
        "id": "Gvh9LuD-bqOU"
      }
    },
    {
      "cell_type": "code",
      "source": [
        "# CountVectorizer\n",
        "cv = CountVectorizer(ngram_range=(1, 2), max_features=1000, max_df=0.95, min_df=5)\n",
        "X_train_cv = cv.fit_transform(train_clean['review_clean']).toarray() #.toarray() para plotearlo\n",
        "X_test_cv = cv.transform(test_clean['review_clean']).toarray()\n",
        "\n",
        "# TfIdfVectorizer \n",
        "tfidf = TfidfVectorizer(ngram_range=(1, 2), max_features=1000, max_df=0.95, min_df=5)\n",
        "X_train_tfidf = tfidf.fit_transform(train_clean['review_clean'])\n",
        "X_test_tfidf = tfidf.transform(test_clean['review_clean'])"
      ],
      "metadata": {
        "id": "cwEpPTP7_fPH"
      },
      "execution_count": 15,
      "outputs": []
    },
    {
      "cell_type": "code",
      "source": [
        "print(list(tfidf.vocabulary_.items())[:20])"
      ],
      "metadata": {
        "colab": {
          "base_uri": "https://localhost:8080/"
        },
        "id": "nLu0la__Ox8z",
        "outputId": "bb84f988-b875-4d37-93b9-4ad51117a53d"
      },
      "execution_count": 16,
      "outputs": [
        {
          "output_type": "stream",
          "name": "stdout",
          "text": [
            "[('want', 960), ('great', 408), ('slice', 789), ('new', 575), ('york', 995), ('pizza', 656), ('come', 200), ('street', 833), ('cheap', 144), ('got', 403), ('taste', 851), ('perfection', 638), ('try', 896), ('cheeseburger', 151), ('hot', 440), ('wing', 979), ('new york', 576), ('way', 965), ('much', 562), ('breading', 103)]\n"
          ]
        }
      ]
    },
    {
      "cell_type": "code",
      "execution_count": 17,
      "metadata": {
        "colab": {
          "base_uri": "https://localhost:8080/"
        },
        "id": "lqg1i_ZrMhqb",
        "outputId": "fa226076-2683-4ff9-b368-f518f5330c46"
      },
      "outputs": [
        {
          "output_type": "stream",
          "name": "stdout",
          "text": [
            "1000\n"
          ]
        }
      ],
      "source": [
        "print(len(tfidf.vocabulary_))"
      ]
    },
    {
      "cell_type": "markdown",
      "source": [
        "##3.1 Frecuencia de las palabras"
      ],
      "metadata": {
        "id": "n8-g8pMuyMsn"
      }
    },
    {
      "cell_type": "code",
      "execution_count": 18,
      "metadata": {
        "id": "wahQ0kz0WvcN",
        "colab": {
          "base_uri": "https://localhost:8080/",
          "height": 279
        },
        "outputId": "efbcb2bd-8aa1-484c-ec50-890ca6572a2b"
      },
      "outputs": [
        {
          "output_type": "display_data",
          "data": {
            "text/plain": [
              "<Figure size 432x288 with 1 Axes>"
            ],
            "image/png": "[encoded data removed]"
          },
          "metadata": {
            "needs_background": "light"
          }
        }
      ],
      "source": [
        "#Frecuencia de las palabras\n",
        "plt.plot(X_train_cv[5,:]) #CountVectorized train en array\n",
        "plt.xlabel('Word')\n",
        "plt.ylabel('Count')\n",
        "plt.show()"
      ]
    },
    {
      "cell_type": "code",
      "execution_count": 19,
      "metadata": {
        "id": "ZDD50OJ-vVOV",
        "colab": {
          "base_uri": "https://localhost:8080/",
          "height": 283
        },
        "outputId": "88ebee3c-b3db-4d10-c9eb-12748b080b67"
      },
      "outputs": [
        {
          "output_type": "display_data",
          "data": {
            "text/plain": [
              "<Figure size 432x288 with 1 Axes>"
            ],
            "image/png": "[encoded data removed]"
          },
          "metadata": {
            "needs_background": "light"
          }
        }
      ],
      "source": [
        "\n",
        "#Observamos la ley de Zipf\n",
        "word_freq = X_train_cv.sum(axis=0)\n",
        "\n",
        "sorted_word_freq = np.sort(word_freq)[::-1]\n",
        "\n",
        "plt.plot(sorted_word_freq)\n",
        "plt.gca().set_xscale('log')\n",
        "plt.gca().set_yscale('log')\n",
        "plt.xlabel('Rank')\n",
        "plt.ylabel('Number of occurrences')\n",
        "plt.show()"
      ]
    },
    {
      "cell_type": "markdown",
      "source": [
        "###3.2 Score IDF de algunas palabras"
      ],
      "metadata": {
        "id": "GiyUSlEFdf3y"
      }
    },
    {
      "cell_type": "code",
      "source": [
        "words_example = [\n",
        "    'sauce',\n",
        "    'very',\n",
        "    'good',\n",
        "    'amazing',\n",
        "    'great',\n",
        "    'fresh',\n",
        "    'fish',\n",
        "    'deviled',\n",
        "    'but',\n",
        "    'was',\n",
        "    'never',\n",
        "    'not',\n",
        "    'wasn´t'\n",
        "]"
      ],
      "metadata": {
        "id": "TvkGy7X6dhD-"
      },
      "execution_count": 20,
      "outputs": []
    },
    {
      "cell_type": "code",
      "source": [
        "vocab_idf = dict(zip(tfidf.get_feature_names_out(), tfidf.idf_))\n",
        "\n",
        "print('{0:20}{1:20}'.format('Palabra', 'IDF'))\n",
        "for word in words_example:\n",
        "    if word not in vocab_idf:\n",
        "        print('{0:20}{1:20}'.format(word, 'OOV'))\n",
        "    else:\n",
        "        print('{0:20}{1:2.3f}'.format(word, vocab_idf[word]))"
      ],
      "metadata": {
        "id": "SGu3EA9Yg2aP",
        "colab": {
          "base_uri": "https://localhost:8080/"
        },
        "outputId": "78ce2784-a51b-4156-834a-51879aac8c66"
      },
      "execution_count": 21,
      "outputs": [
        {
          "output_type": "stream",
          "name": "stdout",
          "text": [
            "Palabra             IDF                 \n",
            "sauce               3.640\n",
            "very                OOV                 \n",
            "good                2.432\n",
            "amazing             3.909\n",
            "great               3.229\n",
            "fresh               3.786\n",
            "fish                4.085\n",
            "deviled             6.636\n",
            "but                 OOV                 \n",
            "was                 OOV                 \n",
            "never               5.518\n",
            "not                 OOV                 \n",
            "wasn´t              OOV                 \n"
          ]
        }
      ]
    },
    {
      "cell_type": "markdown",
      "source": [
        "###3.3 Palabras con el TF-IDF en alguna review"
      ],
      "metadata": {
        "id": "xJrkXLcGhYrU"
      }
    },
    {
      "cell_type": "code",
      "source": [
        "i = random.randint(0, len(X_train))\n",
        "print('ID: {}'.format(i))\n",
        "print('Sentiment: {}'.format(y_train.iloc[i]))\n",
        "print('Review: {}'.format(X_train.iloc[i]))"
      ],
      "metadata": {
        "id": "hQbXbg45hCl1",
        "colab": {
          "base_uri": "https://localhost:8080/"
        },
        "outputId": "1be53386-ea14-425a-8fff-c58d52bc6263"
      },
      "execution_count": 22,
      "outputs": [
        {
          "output_type": "stream",
          "name": "stdout",
          "text": [
            "ID: 192\n",
            "Sentiment: 1\n",
            "Review: seafood fresh tasty\n"
          ]
        }
      ]
    },
    {
      "cell_type": "code",
      "source": [
        "doc_vector = X_train_tfidf[i]\n",
        "df_tfidf = pd.DataFrame(doc_vector.T.todense(), index=tfidf.get_feature_names_out(), columns=['tfidf'])\n",
        "df_tfidf = df_tfidf[df_tfidf['tfidf'] > 0]\n",
        "\n",
        "top_n = 10\n",
        "print('Top {} words with highest TF_IDF in the review {}:\\n{}'.format(top_n, i, df_tfidf.sort_values(by=[\"tfidf\"],ascending=False)[:top_n]))\n",
        "print('\\nTop {} words with lowest TF_IDF in the review {}:\\n{}'.format(top_n, i, df_tfidf.sort_values(by=[\"tfidf\"],ascending=False)[-top_n:]))"
      ],
      "metadata": {
        "id": "PqTMFc4Ahu0X",
        "colab": {
          "base_uri": "https://localhost:8080/"
        },
        "outputId": "f5efbc95-55ef-4482-8607-d338ad0ac46b"
      },
      "execution_count": 23,
      "outputs": [
        {
          "output_type": "stream",
          "name": "stdout",
          "text": [
            "Top 10 words with highest TF_IDF in the review 192:\n",
            "            tfidf\n",
            "seafood  0.622755\n",
            "tasty    0.569485\n",
            "fresh    0.536528\n",
            "\n",
            "Top 10 words with lowest TF_IDF in the review 192:\n",
            "            tfidf\n",
            "seafood  0.622755\n",
            "tasty    0.569485\n",
            "fresh    0.536528\n"
          ]
        }
      ]
    },
    {
      "cell_type": "markdown",
      "source": [
        "###3.4 Chi2(χ²) scores"
      ],
      "metadata": {
        "id": "pRPsmFkZiD2L"
      }
    },
    {
      "cell_type": "code",
      "source": [
        "# Compute the chi-squared score for each word in the training set and show the values\n",
        "i = 15\n",
        "\n",
        "chi2score = chi2(X_train_tfidf, y_train)[0]\n",
        "scores = list(zip(cv.get_feature_names_out(), chi2score))\n",
        "sorted_scores = sorted(scores, key=lambda x:x[1])\n",
        "topchi2 = list(zip(*sorted_scores[-i:]))\n",
        "x = range(len(topchi2[1]))\n",
        "labels = topchi2[0]\n",
        "\n",
        "plt.figure(figsize=(12, 8))\n",
        "plt.barh(x,topchi2[1], align='center', alpha=0.5)\n",
        "plt.plot(topchi2[1], x, '-o', markersize=5, alpha=0.8)\n",
        "plt.yticks(x, labels, fontsize=12)\n",
        "plt.xlabel('$\\chi^2$', fontsize=26)\n",
        "plt.ylabel('word', fontsize=16)\n",
        "plt.title('Top {} $\\chi^2$ score for each word in the training set'.format(i), fontsize=20)\n",
        "plt.grid()\n",
        "plt.tight_layout()\n",
        "plt.show();"
      ],
      "metadata": {
        "id": "kViDDtraiA6q",
        "colab": {
          "base_uri": "https://localhost:8080/",
          "height": 585
        },
        "outputId": "21c6336b-09a7-4b98-edec-58e7a303e918"
      },
      "execution_count": 24,
      "outputs": [
        {
          "output_type": "display_data",
          "data": {
            "text/plain": [
              "<Figure size 864x576 with 1 Axes>"
            ],
            "image/png": "[encoded data removed]"
          },
          "metadata": {
            "needs_background": "light"
          }
        }
      ]
    },
    {
      "cell_type": "markdown",
      "source": [
        "## 4. Entrenamiento modelo de clasificación binaria "
      ],
      "metadata": {
        "id": "1QH00_B6BRwH"
      }
    },
    {
      "cell_type": "code",
      "execution_count": 25,
      "metadata": {
        "colab": {
          "base_uri": "https://localhost:8080/"
        },
        "id": "n_Aa1aN1M0Nm",
        "outputId": "92a44137-58eb-4fe1-e91f-9cfe0dd965ae"
      },
      "outputs": [
        {
          "output_type": "stream",
          "name": "stdout",
          "text": [
            "Accuracy for C=0.01: 0.5645059786028949\n",
            "Accuracy for C=0.05: 0.6463184392699811\n",
            "Accuracy for C=0.25: 0.7161736941472624\n",
            "Accuracy for C=0.5: 0.7293895531780994\n",
            "Accuracy for C=1: 0.7325361862806796\n",
            "Accuracy for C=10: 0.7331655129011957\n",
            "Accuracy for C=100: 0.7168030207677785\n",
            "Accuracy for C=1000: 0.7061044682190056\n",
            "Accuracy for C=10000: 0.7061044682190056\n"
          ]
        }
      ],
      "source": [
        "#Regresión logística\n",
        "c_params = [0.01, 0.05, 0.25, 0.5, 1, 10, 100, 1000, 10000] #lista de parámetros\n",
        "\n",
        "train_acc = list()\n",
        "test_acc = list()\n",
        "for c in c_params:\n",
        "    lr = LogisticRegression(C=c, solver='lbfgs', max_iter=1000)\n",
        "    lr.fit(X_train_tfidf, y_train)\n",
        "    \n",
        "    train_predict = lr.predict(X_train_tfidf)\n",
        "    test_predict = lr.predict(X_test_tfidf) ####\n",
        "    \n",
        "    print (\"Accuracy for C={}: {}\".format(c, accuracy_score(y_test, test_predict)))\n",
        "    \n",
        "    train_acc.append(accuracy_score(y_train, train_predict))\n",
        "    test_acc.append(accuracy_score(y_test, test_predict))"
      ]
    },
    {
      "cell_type": "code",
      "execution_count": 26,
      "metadata": {
        "colab": {
          "base_uri": "https://localhost:8080/"
        },
        "id": "Nhv0R3L5M3U-",
        "outputId": "d410ec26-a903-47b5-c7f9-10622e27b751"
      },
      "outputs": [
        {
          "output_type": "stream",
          "name": "stdout",
          "text": [
            "Confussion matrix:\n",
            "[[449 243]\n",
            " [224 673]]\n",
            "\n",
            "Classification report:\n",
            "              precision    recall  f1-score   support\n",
            "\n",
            "           0       0.67      0.65      0.66       692\n",
            "           1       0.73      0.75      0.74       897\n",
            "\n",
            "    accuracy                           0.71      1589\n",
            "   macro avg       0.70      0.70      0.70      1589\n",
            "weighted avg       0.71      0.71      0.71      1589\n",
            "\n",
            "Accuracy score:0.7061044682190056\n"
          ]
        }
      ],
      "source": [
        "print('Confussion matrix:\\n{}'.format(confusion_matrix(y_test, test_predict)))\n",
        "print('\\nClassification report:\\n{}'.format(classification_report(y_test, test_predict)))\n",
        "print('Accuracy score:{}'.format(accuracy_score(y_test, test_predict)))"
      ]
    },
    {
      "cell_type": "code",
      "execution_count": 27,
      "metadata": {
        "colab": {
          "base_uri": "https://localhost:8080/",
          "height": 585
        },
        "id": "em92TI8dM6Af",
        "outputId": "951f9ab4-c0ef-42f0-b9ba-455ddbd6df8e"
      },
      "outputs": [
        {
          "output_type": "display_data",
          "data": {
            "text/plain": [
              "<Figure size 864x576 with 1 Axes>"
            ],
            "image/png": "[encoded data removed]"
          },
          "metadata": {
            "needs_background": "light"
          }
        }
      ],
      "source": [
        "plt.figure(figsize=(12, 8))\n",
        "plt.plot(train_acc, label='train')\n",
        "plt.plot(test_acc, label='test')\n",
        "plt.axvline(np.argmax(test_acc), c='g', ls='--', alpha=0.8)\n",
        "plt.title('Accuracy evolution for different C values')\n",
        "plt.xlabel('C')\n",
        "plt.ylabel('Accuracy')\n",
        "plt.legend()\n",
        "plt.grid()\n",
        "plt.xticks(list(range(len(c_params))), c_params)\n",
        "plt.tight_layout()\n",
        "plt.show()"
      ]
    },
    {
      "cell_type": "code",
      "execution_count": 28,
      "metadata": {
        "id": "z5Kvexf50eFq"
      },
      "outputs": [],
      "source": [
        "p, r, thresholds = precision_recall_curve(y_test, test_predict)"
      ]
    },
    {
      "cell_type": "code",
      "execution_count": 29,
      "metadata": {
        "id": "JG2yooDHM_rn"
      },
      "outputs": [],
      "source": [
        "def plot_precision_recall_vs_threshold(precisions, recalls, thresholds):\n",
        "    plt.figure(figsize=(8, 8))\n",
        "    plt.title(\"Precision and Recall Scores as a function of the decision threshold\")\n",
        "    plt.plot(thresholds, precisions[:-1], \"b--\", label=\"Precision\")\n",
        "    plt.plot(thresholds, recalls[:-1], \"g-\", label=\"Recall\")\n",
        "    plt.ylabel(\"Score\")\n",
        "    plt.xlabel(\"Decision Threshold\")\n",
        "    plt.legend(loc='best')"
      ]
    },
    {
      "cell_type": "code",
      "execution_count": 30,
      "metadata": {
        "colab": {
          "base_uri": "https://localhost:8080/",
          "height": 513
        },
        "id": "3oXmpAFqNjDp",
        "outputId": "f58704eb-490c-4672-bd04-64ccbf77044b"
      },
      "outputs": [
        {
          "output_type": "display_data",
          "data": {
            "text/plain": [
              "<Figure size 576x576 with 1 Axes>"
            ],
            "image/png": "[encoded data removed]"
          },
          "metadata": {
            "needs_background": "light"
          }
        }
      ],
      "source": [
        "plot_precision_recall_vs_threshold(p, r, thresholds)"
      ]
    },
    {
      "cell_type": "markdown",
      "source": [
        "### 4.1 Predicción"
      ],
      "metadata": {
        "id": "-Oo2mo_mXTs2"
      }
    },
    {
      "cell_type": "code",
      "execution_count": 31,
      "metadata": {
        "id": "Txs32QR_pG1v"
      },
      "outputs": [],
      "source": [
        "def predict_review_sentiment(review_index, model):\n",
        "    print('Actual sentiment: {}'.format(test_clean.iloc[review_index]['sentiment_label']))\n",
        "    r = test_clean.iloc[review_index]['review_clean']\n",
        "    print('Prediction: {}'.format(lr.predict(tfidf.transform([r]))))"
      ]
    },
    {
      "cell_type": "code",
      "execution_count": 32,
      "metadata": {
        "colab": {
          "base_uri": "https://localhost:8080/"
        },
        "id": "n2698dDHNCqn",
        "outputId": "f8a5667e-1579-40e6-c7ab-bf1ace9083af"
      },
      "outputs": [
        {
          "output_type": "stream",
          "name": "stdout",
          "text": [
            "\n",
            "Review no. 420\n",
            "Actual sentiment: 0\n",
            "Prediction: [1]\n",
            "\n",
            "Review no. 110\n",
            "Actual sentiment: 0\n",
            "Prediction: [1]\n",
            "\n",
            "Review no. 704\n",
            "Actual sentiment: 1\n",
            "Prediction: [1]\n",
            "\n",
            "Review no. 744\n",
            "Actual sentiment: 1\n",
            "Prediction: [1]\n",
            "\n",
            "Review no. 1368\n",
            "Actual sentiment: 0\n",
            "Prediction: [0]\n"
          ]
        }
      ],
      "source": [
        "for i in random.sample(range(0, len(test_clean)), 5):\n",
        "    print('\\nReview no. {}'.format(i))\n",
        "    predict_review_sentiment(i, lr)"
      ]
    },
    {
      "cell_type": "markdown",
      "source": [
        "## 5. Entrenamiento de un modelo con árboles de predicción"
      ],
      "metadata": {
        "id": "tOEsuWzgzpmN"
      }
    },
    {
      "cell_type": "code",
      "source": [
        "\n",
        "\n",
        "#Gradient Boosting Classifier\n",
        "from sklearn.ensemble import GradientBoostingClassifier\n",
        "from sklearn.model_selection import GridSearchCV\n",
        "param_grid = {\n",
        "        'n_estimators': [16, 32, 64],\n",
        "        'learning_rate': [0.1, 0.5, 1.0],\n",
        "        'max_depth': [1, 2, 3]\n",
        "}\n",
        "    \n",
        "def classify_gboost(X_train, X_test, y_train, y_test):  \n",
        "    #creo el clasificador      \n",
        "    clf = GradientBoostingClassifier(random_state=42) #n_estimators=n_estimators, learning_rate=1.0,  max_depth=1\n",
        "\n",
        "    #meto una grid_search para buscar los mejores parámetros de entrenamiento\n",
        "    grid_search = GridSearchCV(clf, param_grid, cv=5, n_jobs=-1)\n",
        "    grid_search.fit(X_train, y_train)\n",
        "    clf.fit(X_train, y_train)\n",
        "    \n",
        "    #guardo los mejores parámetros\n",
        "    best_params = grid_search.best_params_\n",
        "\n",
        "    #le paso al clasificador los best_params\n",
        "    clf2 = GradientBoostingClassifier(**best_params, random_state=42)\n",
        "    clf2.fit(X_train_tfidf, y_train)\n",
        "\n",
        "    #predict\n",
        "    test_predict= clf2.predict(X_test_tfidf)\n",
        "\n",
        "    print('Confusion matrix:\\n{}'.format(confusion_matrix(y_test, test_predict)))\n",
        "    print('\\nClassification report:\\n{}'.format(classification_report(y_test, test_predict)))\n",
        "    print('Accuracy score: {:.4f}'.format(accuracy_score(y_test, test_predict)))\n",
        "    \n",
        "    return clf2\n",
        "\n",
        "\n",
        "clf2 = classify_gboost(X_train_tfidf, X_test_tfidf, y_train, y_test)"
      ],
      "metadata": {
        "id": "R8uN_wYfzsBb",
        "colab": {
          "base_uri": "https://localhost:8080/"
        },
        "outputId": "b17bacca-d1fd-412f-e14a-d1c38946eb82"
      },
      "execution_count": 51,
      "outputs": [
        {
          "output_type": "stream",
          "name": "stdout",
          "text": [
            "Confusion matrix:\n",
            "[[329 363]\n",
            " [121 776]]\n",
            "\n",
            "Classification report:\n",
            "              precision    recall  f1-score   support\n",
            "\n",
            "           0       0.73      0.48      0.58       692\n",
            "           1       0.68      0.87      0.76       897\n",
            "\n",
            "    accuracy                           0.70      1589\n",
            "   macro avg       0.71      0.67      0.67      1589\n",
            "weighted avg       0.70      0.70      0.68      1589\n",
            "\n",
            "Accuracy score: 0.6954\n"
          ]
        }
      ]
    },
    {
      "cell_type": "markdown",
      "source": [
        "##6. Modelado CNN"
      ],
      "metadata": {
        "id": "BLiZDBqM1V1U"
      }
    },
    {
      "cell_type": "markdown",
      "source": [
        "### 6.1 Preparación de los datos "
      ],
      "metadata": {
        "id": "6F-hNRNNO3Vg"
      }
    },
    {
      "cell_type": "code",
      "source": [
        "#####################################################################\n",
        "#DEBEMOS IMPORTAR ESTO DEL DRIVE QUE YA ESTÁ HECHO\n",
        "# Mezclamos los datos con sus etiquetas\n",
        "x_train, y_train =shuffle(train_clean['review_clean'],train_clean['sentiment_label'])\n",
        "x_test,y_test =shuffle(test_clean['review_clean'],test_clean['sentiment_label'])\n",
        "\n",
        "print(y_train.tail(20))"
      ],
      "metadata": {
        "id": "pKZj3AGGRxwS",
        "colab": {
          "base_uri": "https://localhost:8080/"
        },
        "outputId": "a668e29d-8d5e-4038-85f5-a3022c46666f"
      },
      "execution_count": 75,
      "outputs": [
        {
          "output_type": "stream",
          "name": "stdout",
          "text": [
            "3188    0\n",
            "4472    0\n",
            "4647    1\n",
            "1707    1\n",
            "3747    1\n",
            "40      0\n",
            "3292    1\n",
            "1292    1\n",
            "1788    1\n",
            "4439    0\n",
            "4680    1\n",
            "4423    1\n",
            "4159    1\n",
            "2416    1\n",
            "4701    1\n",
            "585     0\n",
            "2694    0\n",
            "69      1\n",
            "1961    1\n",
            "806     1\n",
            "Name: sentiment_label, dtype: int64\n"
          ]
        }
      ]
    },
    {
      "cell_type": "code",
      "source": [
        "# Media de palabras en la reviews.\n",
        "# RRN necesitamos establcer el tamaño de neruonas \n",
        "# primero hacer el análisis para ver el número medio y máximo de palabras en las reviews.\n",
        "#si una frase se queda corta, la palabrs restantes se rellenaran de 0. Esto sería negativop\n",
        "max = 0\n",
        "mean = []\n",
        "for example in x_train:\n",
        "  length = len(example)\n",
        "  mean.append(len(example))\n",
        "  if length > max:\n",
        "    max = length"
      ],
      "metadata": {
        "id": "2G0HVPCyr33f"
      },
      "execution_count": 76,
      "outputs": []
    },
    {
      "cell_type": "code",
      "execution_count": 77,
      "metadata": {
        "id": "2rlL5JDwP_3i",
        "colab": {
          "base_uri": "https://localhost:8080/"
        },
        "outputId": "4246a62e-e59d-4330-fac4-1f9a449f28db"
      },
      "outputs": [
        {
          "output_type": "execute_result",
          "data": {
            "text/plain": [
              "98.3286463798531"
            ]
          },
          "metadata": {},
          "execution_count": 77
        }
      ],
      "source": [
        "sum(mean) / len(mean)"
      ]
    },
    {
      "cell_type": "code",
      "execution_count": 78,
      "metadata": {
        "id": "Ufc7drzvP4rS",
        "colab": {
          "base_uri": "https://localhost:8080/"
        },
        "outputId": "169a7a92-c94a-4c30-969c-825e35d0422e"
      },
      "outputs": [
        {
          "output_type": "execute_result",
          "data": {
            "text/plain": [
              "2491"
            ]
          },
          "metadata": {},
          "execution_count": 78
        }
      ],
      "source": [
        "max"
      ]
    },
    {
      "cell_type": "code",
      "source": [
        "#preparamos X_train y X_test para la CNN\n",
        "mx_w = max #número máx de palabras \n",
        "tokenizer = Tokenizer(num_words= mx_w)\n",
        "\n",
        "x_train_tkns = tokenizer.texts_to_sequences(x_train) #tokenizamos cada frase en una secuencia numérica\n",
        "x_test_tkns = tokenizer.texts_to_sequences(x_test)\n"
      ],
      "metadata": {
        "id": "Y1U_9qHH1XXH"
      },
      "execution_count": 86,
      "outputs": []
    },
    {
      "cell_type": "code",
      "source": [
        "max_words = 500 #escogemos una muestra del max de palabras del conjunto de entrenamiento\n",
        "#hacemos el padding\n",
        "X_train = pad_sequences(x_train_tkns, maxlen=max_words)\n",
        "X_test = pad_sequences(x_test_tkns, maxlen=max_words)"
      ],
      "metadata": {
        "id": "8r-iGY1WlUMd"
      },
      "execution_count": 87,
      "outputs": []
    },
    {
      "cell_type": "code",
      "source": [
        "# Vectorizador, extractor de características\n",
        "cv = TfidfVectorizer(\n",
        "    max_df=0.95,\n",
        "    min_df=3,\n",
        "    max_features=500, ## max_words?\n",
        "    strip_accents='ascii',\n",
        "    ngram_range=(1, 1)\n",
        ")\n",
        "\n",
        "X_train_ = cv.fit_transform(x_train)\n",
        "X_test_ = cv.transform(x_test)"
      ],
      "metadata": {
        "id": "4YlM6stmbtCQ"
      },
      "execution_count": 120,
      "outputs": []
    },
    {
      "cell_type": "markdown",
      "source": [
        "###6.2 Creación del modelo"
      ],
      "metadata": {
        "id": "YMSTocIkWLWv"
      }
    },
    {
      "cell_type": "code",
      "source": [
        "embedding_size = 32\n",
        "vocabulary_size= 138683 #total_words (train, con el que entrenamos)\n",
        "#modelo\n",
        "model = Sequential()\n",
        "model.add(Embedding(vocabulary_size, embedding_size, input_length=max_words))\n",
        "model.add(LSTM(100))\n",
        "model.add(Dense(1, activation='sigmoid'))\n",
        "\n",
        "print(model.summary())"
      ],
      "metadata": {
        "colab": {
          "base_uri": "https://localhost:8080/"
        },
        "id": "HcWa5V93WxqY",
        "outputId": "5f346d2e-7f7a-4ea8-eb01-f54c0b82c12b"
      },
      "execution_count": 121,
      "outputs": [
        {
          "output_type": "stream",
          "name": "stdout",
          "text": [
            "Model: \"sequential_3\"\n",
            "_________________________________________________________________\n",
            " Layer (type)                Output Shape              Param #   \n",
            "=================================================================\n",
            " embedding_2 (Embedding)     (None, 500, 32)           4437856   \n",
            "                                                                 \n",
            " lstm_2 (LSTM)               (None, 100)               53200     \n",
            "                                                                 \n",
            " dense_2 (Dense)             (None, 1)                 101       \n",
            "                                                                 \n",
            "=================================================================\n",
            "Total params: 4,491,157\n",
            "Trainable params: 4,491,157\n",
            "Non-trainable params: 0\n",
            "_________________________________________________________________\n",
            "None\n"
          ]
        }
      ]
    },
    {
      "cell_type": "code",
      "execution_count": 122,
      "metadata": {
        "id": "fiYzO7t8y8cI"
      },
      "outputs": [],
      "source": [
        "model.compile(loss='binary_crossentropy', optimizer='adam', metrics=['accuracy'])"
      ]
    },
    {
      "cell_type": "code",
      "source": [
        "X_train_ = X_train_.toarray()\n",
        "X_test_ = X_test_.toarray()"
      ],
      "metadata": {
        "id": "Im2wtgaJhAwv"
      },
      "execution_count": 124,
      "outputs": []
    },
    {
      "cell_type": "code",
      "execution_count": 125,
      "metadata": {
        "id": "_ENigjgBzA30",
        "colab": {
          "base_uri": "https://localhost:8080/"
        },
        "outputId": "64ccc09b-5bc4-4ca6-9d92-f70ab42da137"
      },
      "outputs": [
        {
          "output_type": "stream",
          "name": "stdout",
          "text": [
            "60/60 [==============================] - 84s 1s/step - loss: 0.6812 - accuracy: 0.5834 - val_loss: 0.6825 - val_accuracy: 0.5729\n"
          ]
        },
        {
          "output_type": "execute_result",
          "data": {
            "text/plain": [
              "<keras.callbacks.History at 0x7fca5ed78550>"
            ]
          },
          "metadata": {},
          "execution_count": 125
        }
      ],
      "source": [
        "batch_size = 64\n",
        "num_epochs = 1\n",
        "\n",
        "model.fit(X_train_, y_train, #con el vector de caracteristicas\n",
        "          validation_split=0.2,\n",
        "          batch_size=batch_size, epochs=num_epochs)"
      ]
    },
    {
      "cell_type": "code",
      "execution_count": 126,
      "metadata": {
        "id": "9a1FEXr_zM-7",
        "colab": {
          "base_uri": "https://localhost:8080/"
        },
        "outputId": "2eeba0c2-a8fd-41aa-8f29-e1a6599790b4"
      },
      "outputs": [
        {
          "output_type": "stream",
          "name": "stdout",
          "text": [
            "Test accuracy: 0.5645059943199158\n"
          ]
        }
      ],
      "source": [
        "scores = model.evaluate(X_test, y_test, verbose=0)  # returns loss and other metrics specified in model.compile()\n",
        "print(\"Test accuracy:\", scores[1])  # scores[1] should correspond to accuracy if you passed in metrics=['accuracy']"
      ]
    },
    {
      "cell_type": "markdown",
      "source": [
        "#HASTA AQUÍ TODO BIEN"
      ],
      "metadata": {
        "id": "FV-Bg2trhJb3"
      }
    },
    {
      "cell_type": "code",
      "execution_count": null,
      "metadata": {
        "id": "LR_gl4ERzKSY"
      },
      "outputs": [],
      "source": [
        "model_file = \"lstm_model.h5\"  # HDF5 file\n",
        "model.save(os.path.join(model_file))"
      ]
    },
    {
      "cell_type": "markdown",
      "metadata": {
        "id": "QAscCZtK0c8q"
      },
      "source": [
        "Vamos a ver con GRU:"
      ]
    },
    {
      "cell_type": "code",
      "execution_count": null,
      "metadata": {
        "id": "s8sAJFscz-tr"
      },
      "outputs": [],
      "source": [
        "embedding_size = 32\n",
        "model_gru = Sequential()\n",
        "model_gru.add(Embedding(vocabulary_size, embedding_size, input_length=max_words))\n",
        "model_gru.add(GRUV2(100))\n",
        "model_gru.add(Dense(1, activation='sigmoid'))\n",
        "\n",
        "print(model_gru.summary())"
      ]
    },
    {
      "cell_type": "code",
      "execution_count": null,
      "metadata": {
        "id": "dfYp0LxU1xhf"
      },
      "outputs": [],
      "source": [
        "model_gru.compile(loss='binary_crossentropy', optimizer='adam', metrics=['accuracy'])"
      ]
    },
    {
      "cell_type": "code",
      "execution_count": null,
      "metadata": {
        "id": "1aSdbibz1yzw"
      },
      "outputs": [],
      "source": [
        "batch_size = 64\n",
        "num_epochs = 1\n",
        "\n",
        "X_valid, y_valid = X_train[:batch_size], y_train[:batch_size]  # first batch_size samples\n",
        "X_train2, y_train2 = X_train[batch_size:], y_train[batch_size:]  # rest for training\n",
        "\n",
        "model_gru.fit(X_train2, y_train2,\n",
        "          validation_data=(X_valid, y_valid),\n",
        "          batch_size=batch_size, epochs=num_epochs)"
      ]
    },
    {
      "cell_type": "code",
      "execution_count": null,
      "metadata": {
        "id": "nzNScGZU11sv"
      },
      "outputs": [],
      "source": [
        "model_file = \"gru_model.h5\"  # HDF5 file\n",
        "model_gru.save(os.path.join(cache_dir, model_file))"
      ]
    },
    {
      "cell_type": "code",
      "execution_count": null,
      "metadata": {
        "id": "1LzlI2FO11Pf"
      },
      "outputs": [],
      "source": [
        "scores = model_gru.evaluate(X_test, y_test, verbose=0)  # returns loss and other metrics specified in model.compile()\n",
        "print(\"Test accuracy:\", scores[1])  # scores[1] should correspond to accuracy if you passed in metrics=['accuracy']"
      ]
    },
    {
      "cell_type": "markdown",
      "metadata": {
        "id": "E_5Si51_0fEM"
      },
      "source": [
        "Y por último con RNN:"
      ]
    },
    {
      "cell_type": "code",
      "execution_count": null,
      "metadata": {
        "id": "4cjTljsW0heh"
      },
      "outputs": [],
      "source": [
        "embedding_size = 32\n",
        "model_rnn = Sequential()\n",
        "model_rnn.add(Embedding(vocabulary_size, embedding_size, input_length=max_words))\n",
        "model_rnn.add(SimpleRNN(100))\n",
        "model_rnn.add(Dense(1, activation='sigmoid'))\n",
        "\n",
        "print(model_rnn.summary())"
      ]
    },
    {
      "cell_type": "code",
      "execution_count": null,
      "metadata": {
        "id": "US7sBsoA1-g1"
      },
      "outputs": [],
      "source": [
        "model_rnn.compile(loss='binary_crossentropy', optimizer='adam', metrics=['accuracy'])"
      ]
    },
    {
      "cell_type": "code",
      "execution_count": null,
      "metadata": {
        "id": "VOjkTsmo1_tB"
      },
      "outputs": [],
      "source": [
        "batch_size = 64\n",
        "num_epochs = 1\n",
        "\n",
        "X_valid, y_valid = X_train[:batch_size], y_train[:batch_size]  # first batch_size samples\n",
        "X_train2, y_train2 = X_train[batch_size:], y_train[batch_size:]  # rest for training\n",
        "\n",
        "model_rnn.fit(X_train2, y_train2,\n",
        "          validation_data=(X_valid, y_valid),\n",
        "          batch_size=batch_size, epochs=num_epochs)"
      ]
    },
    {
      "cell_type": "code",
      "execution_count": null,
      "metadata": {
        "id": "iUnazEjo2BOD"
      },
      "outputs": [],
      "source": [
        "model_file = \"rnn_model.h5\"  # HDF5 file\n",
        "model_rnn.save(os.path.join(cache_dir, model_file))"
      ]
    },
    {
      "cell_type": "code",
      "execution_count": null,
      "metadata": {
        "id": "nfluChJ82C_E"
      },
      "outputs": [],
      "source": [
        "scores = model_rnn.evaluate(X_test, y_test, verbose=0)  # returns loss and other metrics specified in model.compile()\n",
        "print(\"Test accuracy:\", scores[1])  # scores[1] should correspond to accuracy if you passed in metrics=['accuracy']"
      ]
    },
    {
      "cell_type": "markdown",
      "metadata": {
        "id": "aCd568FE0n8y"
      },
      "source": [
        "Y si quitamos el Embedding?"
      ]
    },
    {
      "cell_type": "markdown",
      "metadata": {
        "id": "quunsatuTjOR"
      },
      "source": [
        "# 5. RNN + word2vec Embedding"
      ]
    }
  ]
}